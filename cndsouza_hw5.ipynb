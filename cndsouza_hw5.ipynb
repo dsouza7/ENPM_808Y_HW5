{
  "cells": [
    {
      "cell_type": "markdown",
      "source": [
        "## **Programming Assignment 3: Deep Learning**\n",
        "### ENPM808Y — Fundamentals of AI and Machine Learning — Spring 2023\n",
        "Project Due: Tuesday, March 7 , 2023 at 11:59pm\n",
        "\n",
        "Late Policy: 10% penalty\n",
        "\n",
        "\n",
        "Motivation. This project is designed to familiarize you with using ML frameworks for deep learning. In particular, there are the following learning goals:\n",
        "\n",
        "Practice writing code that implements neural network training in an ML framework, such as PyTorch, that supports backpropagation.\n",
        "\n",
        "\n",
        "**Submission**\n",
        "\n",
        "You will submit this notebook to ELMS."
      ],
      "metadata": {
        "id": "wtk0O9ycJJEk"
      }
    },
    {
      "cell_type": "markdown",
      "metadata": {
        "id": "e2mUik0hBKfC"
      },
      "source": [
        "# Introduction to Neural Networks \n",
        "\n",
        "## Introduction\n",
        "\n",
        "Neural networks are becoming increasingly more popular and are responsible for some of the most cutting edge advancements in data science including image and speech recognition. They have also been transformative in reducing the need for intensive and often time intensive feature engineering needed for traditional supervised learning tasks. In this lesson, we'll investigate the architecture of neural networks.\n",
        "\n",
        "## Objectives\n",
        "\n",
        "You will be able to:\n",
        "\n",
        "- Explain what neural networks are and what they can achieve \n",
        "- List the components of a neural network \n",
        "- Explain forward propagation in a neural network \n",
        "- Explain backward propagation and discuss how it is related to forward propagation "
      ]
    },
    {
      "cell_type": "markdown",
      "metadata": {
        "id": "DSAtZcmaBKfF"
      },
      "source": [
        "## What is a neural network? \n",
        "\n",
        "Let's start with an easy example to get an idea of what a neural network is. Imagine a city has 10 ice cream vendors. We would like to predict what the sales amount is for an ice cream vendor given certain input features. Let's say you have several features to predict the sales for each ice cream vendor: the location, the way the ice cream is priced, and the variety in the ice cream offerings.\n",
        "\n",
        "Let's look at the input feature *location*. You know that one of the things that really affects the sales is how many people will walk by the ice cream shop, as these are all potential customers. And realistically, the volume of people passing is largely driven by the *location*. \n",
        "\n",
        "Next, let's look at the input feature *pricing*. How the ice cream is priced really tells us something about the affordability, which will affect sales as well. \n",
        "\n",
        "Last, let's look at the *variety in offering*. When an ice cream shop offers a lot of different ice cream flavors, this might be perceived as a higher quality shop just because customers have more flavors to choose from (and might really like that!). On the other hand, *pricing* might also affect perceived quality: customers might feel that the quality is higher if the prices are higher. This shows that several inputs might affect one hidden feature, as these features in the so-called \"hidden layer\" are called. \n",
        "\n",
        "In reality, all features will be connected with all nodes in the hidden layer, and weights will be assigned to the edges (more about this later), as you can see in the network below. That's why networks like this are also referred to as **densely connected neural networks**. \n",
        "![any name you like](https://drive.google.com/uc?export=view&id=1yhWkR_cUSxkQOw93d5SR7cJKMjGVSgA8)\n",
        "\n"
      ]
    },
    {
      "cell_type": "markdown",
      "metadata": {
        "id": "oCSxRjADBKfF"
      },
      "source": [
        "When we generalize this, a neural network looks like the configuration below. \n",
        "\n",
        "As you can see, to implement a neural network, we need to feed it the inputs $x_i$ (location, pricing, and variety in this example) and the outcome $y$ (pricing in this example), and all the features in the middle will be figured out automatically in the network. That's why this layer is called the **hidden layer**, with the nodes representing **hidden units**.  \n",
        "\n",
        "![](https://drive.google.com/uc?export=view&id=1bd8DxbAAvnY-NXqGmOw2ALTKKjan3VBG)\n",
        "\n",
        "\n"
      ]
    },
    {
      "cell_type": "markdown",
      "metadata": {
        "id": "7Af90HRLBKfG"
      },
      "source": [
        "## The power of deep learning \n",
        "\n",
        "In our previous example, we have three input units, a hidden layer with 4 units, and 1 output unit. Notice that networks come in all shapes and sizes. This is only one example of what deep learning is capable of! The network described above can be extended almost endlessly:\n",
        "\n",
        "- We can add more features (nodes) in the input layer \n",
        "- We can add more nodes in the hidden layer. Also, we can simply add more hidden layers. This is what turns a neural network into a \"deep\" neural network (hence, deep learning)\n",
        "- We can also have several nodes in the output layer  \n",
        "\n",
        "![](https://drive.google.com/uc?export=view&id=1ruAlvIzRtCBy5kl_b62AfRPdcfSsip4d)"
      ]
    },
    {
      "cell_type": "markdown",
      "metadata": {
        "id": "9TQRyDp6BKfG"
      },
      "source": [
        "And there is one more thing that makes deep learning extremely powerful: unlike many other statistical and machine learning techniques, deep learning can deal extremely well with **unstructured data**.\n",
        "\n",
        "\n",
        "In the ice cream vendor example, the input features can be seen as **structured data**. The input features very much take a form of a \"classical\" dataset: observations are rows, features are columns. Examples of **unstructured data**, however, are images, audio files, text data, etc. Historically, and unlike humans, machines had a very hard time interpreting unstructured data. Deep learning was really able to drastically improve machine performance when using unstructured data!\n",
        "\n",
        "To illustrate the power of deep learning, we describe some applications of deep learning below: \n",
        "\n",
        "| x | y |\n",
        "|---|---|\n",
        "| features of an ice cream shop  | sales |\n",
        "| Pictures of cats vs dogs | cat or dog? |\n",
        "| Pictures of presidents | which president is it? |\n",
        "| Dutch text | English text |\n",
        "| audio files | text |\n",
        "|  ... | ... |         \n",
        "\n",
        " \n",
        " \n",
        "Types of neural networks: \n",
        "\n",
        "- Standard neural networks\n",
        "- Convolutional neural networks (input = images, video)\n",
        "- Recurrent neural networks (input = audio files, text, time series data)\n",
        "- Generative adversarial networks"
      ]
    },
    {
      "cell_type": "markdown",
      "metadata": {
        "id": "WiogYZ1rBKfG"
      },
      "source": [
        "## An introductory example"
      ]
    },
    {
      "cell_type": "markdown",
      "metadata": {
        "id": "h4zMbc9wBKfG"
      },
      "source": [
        "### Problem statement and matrix representation"
      ]
    },
    {
      "cell_type": "markdown",
      "metadata": {
        "id": "CVcsQL7ABKfH"
      },
      "source": [
        "![title](https://drive.google.com/uc?export=view&id=1lPzz5KzZwd6tbwI_jmx9MGOx3LwQUHJd)"
      ]
    },
    {
      "cell_type": "markdown",
      "metadata": {
        "id": "GkkcMHqaBKfH"
      },
      "source": [
        "You'll see that there is quite a bit of theory and mathematical notation needed when using neural networks. We'll introduce all this for the first time by using an example.\n",
        "Imagine we have a dataset with images. Some of them have Santa in it, others don't. We'll use a neural network to train the model so it can detect whether Santa is in a picture or not.\n",
        "\n",
        "As mentioned before, this is a kind of problem where the input data is composed of images. Now how does Python read images? To store an image, your computer stores three matrices which correspond with three color channels: red, green, and blue (also referred to as RGB). The numbers in each of the three matrices correspond with the pixel intensity values in each of the three colors. The picture below denotes a hypothetical representation of a 4 x 4 pixel image (note that 4 x 4 is tiny, generally you'll have much bigger dimensions). Pixel intensity values are on the scale [0, 255]."
      ]
    },
    {
      "cell_type": "markdown",
      "metadata": {
        "id": "dLDj7XG2BKfH"
      },
      "source": [
        "![title](https://drive.google.com/uc?export=view&id=1rt5Y-IOnVhEvXgxE21OauK8B3ITlbVan)\n"
      ]
    },
    {
      "cell_type": "markdown",
      "metadata": {
        "id": "8mG4oqhDBKfH"
      },
      "source": [
        "Having three matrices associated with one image, we'll need to modify this shape to get to one input feature vector. You'll want to \"unrow\" your input feature values into one so-called \"feature vector\". You should start with unrowing the red pixel matrix, then the green one, then the blue one. Unrowing the RGB matrices in the image above would result in:"
      ]
    },
    {
      "cell_type": "markdown",
      "metadata": {
        "id": "L5ShDDa9BKfH"
      },
      "source": [
        " $x = \\begin{bmatrix} 35  \\\\ 19 \\\\  \\vdots \\\\ 9 \\\\7 \\\\\\vdots \\\\ 4 \\\\ 6 \\\\ \\vdots \\end{bmatrix}$"
      ]
    },
    {
      "cell_type": "markdown",
      "metadata": {
        "id": "u3Y2HncdBKfI"
      },
      "source": [
        "The resulting feature vector is a matrix with one column and 4 x 4 x 3 = 48 rows. Let's introduce some more notation to formalize this all.\n",
        "\n",
        "$(x, y)$ = a training sample, where $x \\in  \\mathbb{R}^n , y \\in \\{0,1\\}$. Note that $n$ is the number of inputs in the feature vector (48 in this example).\n",
        "\n",
        "Let's say you have one training sample. Your training set then looks like this: $\\{(x^{(1)},y^{(1)}), \\ldots, (x^{(l)},y^{(l)})\\}$ \n",
        "\n",
        "Similarly, let's say the test set has $m$ test samples.\n",
        "\n",
        "Note that the resulting matrix $x$ has dimensions ($n$ x $l%$), and looks like this:"
      ]
    },
    {
      "cell_type": "markdown",
      "metadata": {
        "id": "U1tH0XQjBKfI"
      },
      "source": [
        " $ \\hspace{1.1cm} x^{(1)} \\hspace{0.4cm} x^{(2)} \\hspace{1.4cm} x^{(l)} $\n",
        " \n",
        " $x $= $\\begin{bmatrix} 35 & 23 & \\cdots & 1\\\\ 19 & 88 &\\cdots & 230\\\\  \\vdots & \\vdots & \\ddots & \\vdots \\\\ 9 & 3 &\\cdots & 222 \\\\7 &166 &\\cdots  &43 \\\\ \\vdots & \\vdots & \\ddots & \\vdots  \\\\ 4 & 202 & \\cdots & 98 \\\\ 6 & 54 & \\cdots & 100 \\\\ \\vdots & \\vdots & \\ddots & \\vdots \\end{bmatrix}$"
      ]
    },
    {
      "cell_type": "markdown",
      "metadata": {
        "id": "nq11j_o5BKfI"
      },
      "source": [
        "The training set labels matrix has dimensions $(1$ x $ l)$, and would look something like this:"
      ]
    },
    {
      "cell_type": "markdown",
      "metadata": {
        "id": "e27hjL5lBKfI"
      },
      "source": [
        "$y $= $\\begin{bmatrix} 1 & 0 & \\cdots & 1 \\end{bmatrix}$"
      ]
    },
    {
      "cell_type": "markdown",
      "metadata": {
        "id": "jQGmbgxMBKfJ"
      },
      "source": [
        "where 1 means that the image contains a Santa, 0 means there is no Santa in the image.\n"
      ]
    },
    {
      "cell_type": "markdown",
      "source": [
        "Before working on the assignment Please run through the below tutorial to play around with Pytorch and Neural Network\n",
        "\n",
        "* [Neural Network Tutorial](https://colab.research.google.com/drive/1t5twWABoVOqh2qIiMCh3CWbpTiJY4VS-?usp=sharing)\n",
        "\n",
        "* [Pytorch Tutorial](https://colab.research.google.com/drive/1ohhSO5KYXRyuTw4kLxGmS0Y1Uc6cCYbP?usp=sharing)"
      ],
      "metadata": {
        "id": "NWr7ztuAap0I"
      }
    },
    {
      "cell_type": "markdown",
      "source": [
        "#### **Objective:**\n",
        "To build a simple convolutional neural network in PyTorch and train it to recognize handwritten digits using the MNIST dataset\n",
        "\n",
        "## **Introduction**\n",
        "Classifying handwritten digits is a classic problem in the field of computer vision and has been used as a benchmark dataset for machine learning algorithms for decades. The [MNIST dataset](https://en.wikipedia.org/wiki/MNIST_database) is a commonly used dataset for this task, which consists of 70,000 grayscale images of handwritten digits, each with a resolution of 28x28 pixels. The task is to train a machine learning model that can accurately classify each image into its corresponding digit (0-9)."
      ],
      "metadata": {
        "id": "gNVoTPMfc6Wn"
      }
    },
    {
      "cell_type": "markdown",
      "source": [
        "Notebook Outline:\n",
        "\n",
        "* Installing necessary packages\n",
        "* Importing necessary libraries and dataset\n",
        "* Data preprocessing\n",
        "* Defining the CNN architecture\n",
        "* Training the model\n",
        "* Testing the model\n",
        "* Conclusion\n",
        "\n",
        "**1. Installing necessary  packages**\n",
        "\n",
        "In this section, you will install any necessary packages and libraries needed to run the notebook. This includes installing PyTorch, which is a popular deep learning framework."
      ],
      "metadata": {
        "id": "D934sUTBdxz0"
      }
    },
    {
      "cell_type": "code",
      "source": [
        "!pip install torch torchvision"
      ],
      "metadata": {
        "id": "nQrZna6SfdT_",
        "outputId": "1cdfa2db-5140-41f0-9f62-6740d7764cb0",
        "colab": {
          "base_uri": "https://localhost:8080/"
        }
      },
      "execution_count": null,
      "outputs": [
        {
          "output_type": "stream",
          "name": "stdout",
          "text": [
            "Looking in indexes: https://pypi.org/simple, https://us-python.pkg.dev/colab-wheels/public/simple/\n",
            "Requirement already satisfied: torch in /usr/local/lib/python3.8/dist-packages (1.13.1+cu116)\n",
            "Requirement already satisfied: torchvision in /usr/local/lib/python3.8/dist-packages (0.14.1+cu116)\n",
            "Requirement already satisfied: typing-extensions in /usr/local/lib/python3.8/dist-packages (from torch) (4.5.0)\n",
            "Requirement already satisfied: requests in /usr/local/lib/python3.8/dist-packages (from torchvision) (2.25.1)\n",
            "Requirement already satisfied: pillow!=8.3.*,>=5.3.0 in /usr/local/lib/python3.8/dist-packages (from torchvision) (8.4.0)\n",
            "Requirement already satisfied: numpy in /usr/local/lib/python3.8/dist-packages (from torchvision) (1.22.4)\n",
            "Requirement already satisfied: chardet<5,>=3.0.2 in /usr/local/lib/python3.8/dist-packages (from requests->torchvision) (4.0.0)\n",
            "Requirement already satisfied: idna<3,>=2.5 in /usr/local/lib/python3.8/dist-packages (from requests->torchvision) (2.10)\n",
            "Requirement already satisfied: certifi>=2017.4.17 in /usr/local/lib/python3.8/dist-packages (from requests->torchvision) (2022.12.7)\n",
            "Requirement already satisfied: urllib3<1.27,>=1.21.1 in /usr/local/lib/python3.8/dist-packages (from requests->torchvision) (1.26.14)\n"
          ]
        }
      ]
    },
    {
      "cell_type": "markdown",
      "source": [
        "**2. Importing  necessary  libraries  and  dataset**\n",
        "\n",
        "In this section, you will import the necessary libraries and modules for building and training the model. This includes importing the MNIST dataset from PyTorch's built-in datasets module."
      ],
      "metadata": {
        "id": "255h8jJcfntV"
      }
    },
    {
      "cell_type": "code",
      "source": [
        "# Importing torch and torchvision\n",
        "import torch\n",
        "import torchvision\n",
        "import torch.nn as nn\n",
        "import torch.nn.functional as F\n",
        "import torch.optim as optim\n",
        "\n",
        "# Device configuration\n",
        "device = torch.device('cuda' if torch.cuda.is_available() else 'cpu')\n",
        "device"
      ],
      "metadata": {
        "id": "4fic8LBRdvcg",
        "outputId": "69425c0a-7ce3-417b-acf9-578ee1220fd2",
        "colab": {
          "base_uri": "https://localhost:8080/"
        }
      },
      "execution_count": null,
      "outputs": [
        {
          "output_type": "execute_result",
          "data": {
            "text/plain": [
              "device(type='cuda')"
            ]
          },
          "metadata": {},
          "execution_count": 18
        }
      ]
    },
    {
      "cell_type": "code",
      "source": [
        "# Hyperparameters\n",
        "\n",
        "n_epochs = 3 # Number of Epochs\n",
        "batch_size_train = 64 # Training Batch Size\n",
        "batch_size_test = 1000 # Testing Batch Size\n",
        "learning_rate = 0.01 # Learning Rate for Gradient Descent ( Hyperparameter )\n",
        "momentum = 0.5\n",
        "log_interval = 10\n",
        "\n",
        "random_seed = 1 \n",
        "torch.backends.cudnn.enabled = False\n",
        "torch.manual_seed(random_seed)"
      ],
      "metadata": {
        "id": "5RLzngCFgoJB",
        "outputId": "b141f1eb-1da3-492c-b04f-b73f036516de",
        "colab": {
          "base_uri": "https://localhost:8080/"
        }
      },
      "execution_count": null,
      "outputs": [
        {
          "output_type": "execute_result",
          "data": {
            "text/plain": [
              "<torch._C.Generator at 0x7f4398b87f10>"
            ]
          },
          "metadata": {},
          "execution_count": 19
        }
      ]
    },
    {
      "cell_type": "markdown",
      "source": [
        "**3. Data preprocessing**\n",
        "\n",
        "In this section, you will preprocess the data by converting the images to PyTorch tensors, normalizing the pixel values, and splitting the dataset into training and testing sets."
      ],
      "metadata": {
        "id": "BsgNdJStgYYr"
      }
    },
    {
      "cell_type": "code",
      "source": [
        "train_loader = torch.utils.data.DataLoader(\n",
        "  torchvision.datasets.MNIST('/files/', train=True, download=True,\n",
        "                             transform=torchvision.transforms.Compose([\n",
        "                               torchvision.transforms.ToTensor(),\n",
        "                               torchvision.transforms.Normalize(\n",
        "                                 (0.1307,), (0.3081,))\n",
        "                             ])),\n",
        "  batch_size=batch_size_train, shuffle=True)\n",
        "\n",
        "test_loader = torch.utils.data.DataLoader(\n",
        "  torchvision.datasets.MNIST('/files/', train=False, download=True,\n",
        "                             transform=torchvision.transforms.Compose([\n",
        "                               torchvision.transforms.ToTensor(),\n",
        "                               torchvision.transforms.Normalize(\n",
        "                                 (0.1307,), (0.3081,))\n",
        "                             ])),\n",
        "  batch_size=batch_size_test, shuffle=True)\n",
        "print(len(train_loader))\n",
        "print(len(test_loader))"
      ],
      "metadata": {
        "id": "5s4e_oGmgErf",
        "colab": {
          "base_uri": "https://localhost:8080/"
        },
        "outputId": "a60ed132-2947-4b46-8c85-7d07dfcdff7a"
      },
      "execution_count": null,
      "outputs": [
        {
          "output_type": "stream",
          "name": "stdout",
          "text": [
            "938\n",
            "10\n"
          ]
        }
      ]
    },
    {
      "cell_type": "code",
      "source": [
        "# Lets look into test_loader Dataloader\n",
        "examples = enumerate(test_loader)\n",
        "batch_idx, (example_data, example_targets) = next(examples)"
      ],
      "metadata": {
        "id": "Ac4u4eKzhjBh"
      },
      "execution_count": null,
      "outputs": []
    },
    {
      "cell_type": "code",
      "source": [
        "# let's see what one test data batch consists of.\n",
        "example_data.shape"
      ],
      "metadata": {
        "id": "LVojspFLgbvQ",
        "outputId": "19f2d220-1531-4ea6-efb6-ffbda7d24eac",
        "colab": {
          "base_uri": "https://localhost:8080/"
        }
      },
      "execution_count": null,
      "outputs": [
        {
          "output_type": "execute_result",
          "data": {
            "text/plain": [
              "torch.Size([1000, 1, 28, 28])"
            ]
          },
          "metadata": {},
          "execution_count": 22
        }
      ]
    },
    {
      "cell_type": "markdown",
      "source": [
        "So one test data batch is a  tensor of shape[1000,1,28,28]: \n",
        "\n",
        "This means we have 1000 examples of 28x28 pixels in grayscale (i.e. no rgb channels, hence the one)."
      ],
      "metadata": {
        "id": "VmtnekvMii_T"
      }
    },
    {
      "cell_type": "code",
      "source": [
        "# plot some of them using matplotlib\n",
        "import matplotlib.pyplot as plt\n",
        "\n",
        "fig = plt.figure()\n",
        "for i in range(6):\n",
        "  plt.subplot(2,3,i+1)\n",
        "  plt.tight_layout()\n",
        "  plt.imshow(example_data[i][0], cmap='gray', interpolation='none')\n",
        "  plt.title(\"Ground Truth: {}\".format(example_targets[i]))\n",
        "  plt.xticks([])\n",
        "  plt.yticks([])\n",
        "fig"
      ],
      "metadata": {
        "id": "qhVVtkBRih4u",
        "outputId": "19a68470-e2ee-4e51-9ab5-4778c2ea386c",
        "colab": {
          "base_uri": "https://localhost:8080/",
          "height": 551
        }
      },
      "execution_count": null,
      "outputs": [
        {
          "output_type": "execute_result",
          "data": {
            "text/plain": [
              "<Figure size 432x288 with 6 Axes>"
            ],
            "image/png": "[encoded data removed]"
          },
          "metadata": {},
          "execution_count": 23
        },
        {
          "output_type": "display_data",
          "data": {
            "text/plain": [
              "<Figure size 432x288 with 6 Axes>"
            ],
            "image/png": "[encoded data removed]"
          },
          "metadata": {}
        }
      ]
    },
    {
      "cell_type": "markdown",
      "source": [
        "**4. Defining the CNN architecture**\n",
        " \n",
        "In this section, you will define the architecture of the convolutional neural network (CNN) used for classification. This includes defining the number and type of layers, activation functions, and pooling layers used. \n",
        "\n",
        "Broadly speaking we can think of the torch.nn layers as which contain trainable parameters while torch.nn.functional are purely functional. The forward() pass defines the way we compute our output using the given layers and functions.\n",
        "\n",
        "The Net class is a subclass of nn.Module and defines the layers of the CNN. \n",
        "\n",
        "The constructor (__init__) method initializes each layer of the CNN, including the convolutional layers, pooling layers, and linear layers. The forward method defines the forward pass through the network, which consists of applying the convolutional and pooling layers to the input image, flattening the output, and passing it through the linear layers."
      ],
      "metadata": {
        "id": "cSji9Dpaj_3V"
      }
    },
    {
      "cell_type": "markdown",
      "source": [
        "\n",
        "Implement a PyTorch model that takes a 28x28 grayscale image tensor as input and outputs a log probability distribution over 10 classes (corresponding to the digits 0-9). Your model should have the following layers:\n",
        "\n",
        "* A 2D convolutional layer with 10 output channels, a 5x5 kernel size, and ReLU activation.\n",
        "* A 2D max pooling layer with a 2x2 kernel size.\n",
        "* Another 2D convolutional layer with 20 output channels, a 5x5 kernel size, and ReLU activation.\n",
        "* A 2D dropout layer with a probability of dropout set to 0.* 5.\n",
        "A fully connected layer with 50 output units and ReLU activation.\n",
        "* Another fully connected layer with 10 output units (one for each class) and log softmax activation.\n",
        "\n",
        " Your implementation should use the nn.Module class and define the layers in the init function, and implement the forward pass through the layers in the forward function.\"\n"
      ],
      "metadata": {
        "id": "r56IzItUtsbE"
      }
    },
    {
      "cell_type": "code",
      "source": [
        "class Net(nn.Module):\n",
        "    def __init__(self):\n",
        "        super(Net, self).__init__()\n",
        "        #kernels\n",
        "        self.conv1 = nn.Conv2d(1, 10, 5)\n",
        "        self.conv2 = nn.Conv2d(10, 20, 5)\n",
        "        #ReLU\n",
        "        self.relu=nn.ReLU()\n",
        "        #maxpool\n",
        "        self.maxpool = nn.MaxPool2d(2)\n",
        "        #dropout\n",
        "        self.dropout = nn.Dropout2d(p=0.5)\n",
        "        #fully connected layer\n",
        "        self.fc1 = nn.Linear(320, 50)\n",
        "        self.fc2 = nn.Linear(50, 10)\n",
        "        self.op_func = nn.LogSoftmax(dim=1)\n",
        "\n",
        "    def forward(self, x):\n",
        "        #passing input to conv1 and relu\n",
        "        x = self.conv1(x)\n",
        "        x = self.maxpool(x)\n",
        "        x = self.relu(x)\n",
        "        #passing this input to conv2 and relu\n",
        "        x = self.conv2(x)\n",
        "        #applying dropout\n",
        "        x = self.dropout(x)\n",
        "        x = self.maxpool(x)\n",
        "        x = self.relu(x)\n",
        "        #converting to a 1D tensor to pass through fc1\n",
        "        x = x.view(-1, 320)\n",
        "        #passing through fully connected layers and relu and softmax activation for each\n",
        "        x = self.fc1(x)\n",
        "        x = self.relu(x)\n",
        "        x = self.dropout(x)\n",
        "        x = self.fc2(x)\n",
        "        x = self.op_func(x)\n",
        "\n",
        "        return x"
      ],
      "metadata": {
        "id": "41-eZs_ekjNz"
      },
      "execution_count": null,
      "outputs": []
    },
    {
      "cell_type": "markdown",
      "source": [
        "The *optim.SGD()* function is a stochastic gradient descent optimizer that updates the parameters of the CNN based on the gradients of the loss function with respect to those parameters. We pass net.parameters() to the optimizer to tell it to optimize the parameters of the net model. We also specify a learning rate (lr) of 0.01 and a momentum (momentum) of 0.5, which are commonly used hyperparameters for training CNNs."
      ],
      "metadata": {
        "id": "7mvdYEVQmqLW"
      }
    },
    {
      "cell_type": "code",
      "source": [
        "# Initialize the Network\n",
        "network = Net()\n",
        "optimizer = optim.SGD(network.parameters(), lr=learning_rate,\n",
        "                      momentum=momentum)\n",
        "# Print out the model \n",
        "network\n"
      ],
      "metadata": {
        "id": "4RPYdi0TlInD",
        "outputId": "13a7e8c6-9a0b-4e30-d008-2a6a027638d1",
        "colab": {
          "base_uri": "https://localhost:8080/"
        }
      },
      "execution_count": null,
      "outputs": [
        {
          "output_type": "execute_result",
          "data": {
            "text/plain": [
              "Net(\n",
              "  (conv1): Conv2d(1, 10, kernel_size=(5, 5), stride=(1, 1))\n",
              "  (conv2): Conv2d(10, 20, kernel_size=(5, 5), stride=(1, 1))\n",
              "  (relu): ReLU()\n",
              "  (maxpool): MaxPool2d(kernel_size=2, stride=2, padding=0, dilation=1, ceil_mode=False)\n",
              "  (dropout): Dropout2d(p=0.5, inplace=False)\n",
              "  (fc1): Linear(in_features=320, out_features=50, bias=True)\n",
              "  (fc2): Linear(in_features=50, out_features=10, bias=True)\n",
              "  (op_func): LogSoftmax(dim=1)\n",
              ")"
            ]
          },
          "metadata": {},
          "execution_count": 25
        }
      ]
    },
    {
      "cell_type": "markdown",
      "source": [
        "**5. Training the model**\n",
        "\n",
        "In this section, you will train the CNN using the training data. This includes defining the loss function and optimization algorithm, setting the hyperparameters of the model, and iterating through the training data to update the weights of the model.\n",
        "\n",
        "Time to build our training loop. First we want to make sure our network is in training mode. Then we iterate over all training data once per epoch. Loading the individual batches is handled by the DataLoader. First we need to manually set the gradients to zero using optimizer.zero_grad() since PyTorch by default accumulates gradients. We then produce the output of our network (forward pass) and compute a negative log-likelihodd loss between the output and the ground truth label. The backward() call we now collect a new set of gradients which we propagate back into each of the network's parameters using optimizer.step(). For more detailed information about the inner workings of PyTorch's automatic gradient system, see the [official docs](https://pytorch.org/docs/stable/notes/autograd.html#) for autograd (highly recommended)."
      ],
      "metadata": {
        "id": "IXFyAeU3lv55"
      }
    },
    {
      "cell_type": "code",
      "source": [
        "# Logging to save the losses later for plotting \n",
        "train_losses = []\n",
        "train_counter = []\n",
        "test_losses = []\n",
        "test_accs = []\n",
        "test_counter = [i*len(train_loader.dataset) for i in range(n_epochs + 1)]"
      ],
      "metadata": {
        "id": "WXyXB8_mmILS"
      },
      "execution_count": null,
      "outputs": []
    },
    {
      "cell_type": "markdown",
      "source": [
        "We'll run our test loop once before even starting the training to see what accuracy/loss we achieve just with randomly initialized network parameters. Can you guess what our accuracy might look like for this case?\n",
        "\n",
        "\n",
        "**Note: Make sure you create a results directory in the Files section which you can find in the left side of the colab**"
      ],
      "metadata": {
        "id": "DFKKHOURniaz"
      }
    },
    {
      "cell_type": "code",
      "source": [
        "def train(epoch):\n",
        "  network.train()\n",
        "  for batch_idx, (data, target) in enumerate(train_loader):\n",
        "    optimizer.zero_grad() # Using the context manager no_grad() we can avoid storing the computations done producing the output of our network in the computation graph.\n",
        "    output = network(data)\n",
        "    loss = F.nll_loss(output, target)\n",
        "    loss.backward()\n",
        "    optimizer.step()\n",
        "    if batch_idx % log_interval == 0:\n",
        "      print('Train Epoch: {} [{}/{} ({:.0f}%)]\\tLoss: {:.6f}'.format(\n",
        "        epoch, batch_idx * len(data), len(train_loader.dataset),\n",
        "        100. * batch_idx / len(train_loader), loss.item()))\n",
        "      train_losses.append(loss.item())\n",
        "      train_counter.append(\n",
        "        (batch_idx*64) + ((epoch-1)*len(train_loader.dataset)))\n",
        "      torch.save(network.state_dict(), '/content/results/model.pth') # create the results directory using the files tab (you can find to the left of google colab)\n",
        "      torch.save(optimizer.state_dict(), '/content/results/optimizer.pth')\n"
      ],
      "metadata": {
        "id": "aFy2O64tnfwh"
      },
      "execution_count": null,
      "outputs": []
    },
    {
      "cell_type": "markdown",
      "source": [
        "**6. Testing the model**\n",
        "\n",
        "In this section, you will test the performance of the trained model on the testing dataset. This includes calculating the accuracy and other performance metrics, as well as generating a confusion matrix to visualize the model's performance.\n",
        "\n",
        "\n",
        "\"Implement a PyTorch test function that evaluates the performance of a neural network model on a test dataset using cross-entropy loss and accuracy metrics. Your function should take as input a PyTorch model (network), a test data loader (test_loader), and two empty lists (test_losses and test_accs) to store the test losses and accuracies over time.\n",
        "\n",
        "Inside your test function, you should:\n",
        "\n",
        "* Put the model into evaluation mode by calling network.eval().\n",
        "* Initialize the test_loss and correct variables to zero.\n",
        "* Disable gradient computations by wrapping the test loop with torch.no_grad().\n",
        "* Loop over the test data using the test_loader, and for each batch:\n",
        "  - a. Pass \n",
        "the batch of input data (data) through the model (network) to get the output logits (output).\n",
        "  - b. Calculate the cross-entropy loss between the output logits and the target labels (target) using F.nll_loss.\n",
        "  - c. Add the batch loss to the test_loss variable.\n",
        "  - d. Compute the predicted labels (pred) by taking the argmax of the output logits along the class dimension.\n",
        "  - e. Update the correct variable by adding the number of correct predictions in the batch (i.e. where pred equals target).\n",
        "* Calculate the average test loss by dividing the test_loss variable by the total number of test samples.\n",
        "* Append the average test loss to the test_losses list.\n",
        "* Calculate the test accuracy as the percentage of correct predictions over the total number of test samples.\n",
        "* Append the test accuracy to the test_accs list.\n",
        "* Print the test set loss and accuracy using the formatted string '\\nTest set: Avg. loss: {:.4f}, Accuracy: {}/{} ({:.0f}%)\\n'.format(test_loss, correct, len(test_loader.dataset), 100. * correct / len(test_loader.dataset)).\n",
        "\n",
        "Your implementation should closely follow this template and use PyTorch functions as appropriate.\""
      ],
      "metadata": {
        "id": "Ko5XM6ConzhF"
      }
    },
    {
      "cell_type": "code",
      "source": [
        "def test():\n",
        "  #evaluation mode\n",
        "  network.eval()\n",
        "  test_loss = 0\n",
        "  correct = 0\n",
        "  #disabling gradient computations\n",
        "  with torch.no_grad():\n",
        "    for data,target in test_loader:\n",
        "      output = network(data)\n",
        "      #cross entropy  + test_loss\n",
        "      test_loss = test_loss + F.nll_loss(output,target,size_average=False).item() \n",
        "      pred = output.argmax(dim=1)\n",
        "      correct = correct + pred.eq(target.data.view_as(pred)).sum()\n",
        "  test_loss = test_loss/len(test_loader.dataset)\n",
        "  test_losses.append(test_loss) \n",
        "  #test accuracy\n",
        "  test_accuracy = 100. * correct/len(test_loader.dataset)\n",
        "  test_accs.append(test_accuracy)\n",
        "\n",
        "  print('\\nTest set: Avg. loss: {:.4f}, Accuracy: {}/{} ({:.0f}%)\\n'.format(test_loss, correct, len(test_loader.dataset), test_accuracy))\n",
        "  "
      ],
      "metadata": {
        "id": "VTSa96xXn0Q_"
      },
      "execution_count": null,
      "outputs": []
    },
    {
      "cell_type": "code",
      "source": [
        "\"\"\" Time to run the training! We'll manually add a test() call before we \n",
        "    loop over n_epochs to evaluate our model with randomly initialized parameters.\"\"\"\n",
        "\n",
        "test()\n",
        "for epoch in range(1, n_epochs + 1):\n",
        "  train(epoch)\n",
        "  test()"
      ],
      "metadata": {
        "id": "o32vW8lkoNCr",
        "colab": {
          "base_uri": "https://localhost:8080/"
        },
        "outputId": "faea3501-0213-4560-f690-56a2ccbf9cfc"
      },
      "execution_count": null,
      "outputs": [
        {
          "output_type": "stream",
          "name": "stdout",
          "text": [
            "\n",
            "Test set: Avg. loss: 2.3096, Accuracy: 924/10000 (9%)\n",
            "\n",
            "Train Epoch: 1 [0/60000 (0%)]\tLoss: 2.313179\n",
            "Train Epoch: 1 [640/60000 (1%)]\tLoss: 2.300776\n",
            "Train Epoch: 1 [1280/60000 (2%)]\tLoss: 2.298872\n",
            "Train Epoch: 1 [1920/60000 (3%)]\tLoss: 2.276723\n",
            "Train Epoch: 1 [2560/60000 (4%)]\tLoss: 2.241102\n",
            "Train Epoch: 1 [3200/60000 (5%)]\tLoss: 2.248662\n",
            "Train Epoch: 1 [3840/60000 (6%)]\tLoss: 2.189547\n",
            "Train Epoch: 1 [4480/60000 (7%)]\tLoss: 2.146399\n",
            "Train Epoch: 1 [5120/60000 (9%)]\tLoss: 2.107701\n",
            "Train Epoch: 1 [5760/60000 (10%)]\tLoss: 2.011356\n",
            "Train Epoch: 1 [6400/60000 (11%)]\tLoss: 1.843857\n",
            "Train Epoch: 1 [7040/60000 (12%)]\tLoss: 1.758839\n",
            "Train Epoch: 1 [7680/60000 (13%)]\tLoss: 1.672644\n",
            "Train Epoch: 1 [8320/60000 (14%)]\tLoss: 1.687645\n",
            "Train Epoch: 1 [8960/60000 (15%)]\tLoss: 1.426628\n",
            "Train Epoch: 1 [9600/60000 (16%)]\tLoss: 1.284204\n",
            "Train Epoch: 1 [10240/60000 (17%)]\tLoss: 1.318824\n",
            "Train Epoch: 1 [10880/60000 (18%)]\tLoss: 1.445287\n",
            "Train Epoch: 1 [11520/60000 (19%)]\tLoss: 1.140686\n",
            "Train Epoch: 1 [12160/60000 (20%)]\tLoss: 1.152914\n",
            "Train Epoch: 1 [12800/60000 (21%)]\tLoss: 1.054201\n",
            "Train Epoch: 1 [13440/60000 (22%)]\tLoss: 0.900051\n",
            "Train Epoch: 1 [14080/60000 (23%)]\tLoss: 1.192117\n",
            "Train Epoch: 1 [14720/60000 (25%)]\tLoss: 0.944671\n",
            "Train Epoch: 1 [15360/60000 (26%)]\tLoss: 0.883143\n",
            "Train Epoch: 1 [16000/60000 (27%)]\tLoss: 0.846327\n",
            "Train Epoch: 1 [16640/60000 (28%)]\tLoss: 0.773429\n",
            "Train Epoch: 1 [17280/60000 (29%)]\tLoss: 0.760332\n",
            "Train Epoch: 1 [17920/60000 (30%)]\tLoss: 0.813500\n",
            "Train Epoch: 1 [18560/60000 (31%)]\tLoss: 0.890023\n",
            "Train Epoch: 1 [19200/60000 (32%)]\tLoss: 0.797666\n",
            "Train Epoch: 1 [19840/60000 (33%)]\tLoss: 0.903690\n",
            "Train Epoch: 1 [20480/60000 (34%)]\tLoss: 0.582573\n",
            "Train Epoch: 1 [21120/60000 (35%)]\tLoss: 0.689915\n",
            "Train Epoch: 1 [21760/60000 (36%)]\tLoss: 0.625810\n",
            "Train Epoch: 1 [22400/60000 (37%)]\tLoss: 0.770786\n",
            "Train Epoch: 1 [23040/60000 (38%)]\tLoss: 0.730335\n",
            "Train Epoch: 1 [23680/60000 (39%)]\tLoss: 0.636302\n",
            "Train Epoch: 1 [24320/60000 (41%)]\tLoss: 0.662824\n",
            "Train Epoch: 1 [24960/60000 (42%)]\tLoss: 0.831556\n",
            "Train Epoch: 1 [25600/60000 (43%)]\tLoss: 0.855463\n",
            "Train Epoch: 1 [26240/60000 (44%)]\tLoss: 0.622609\n",
            "Train Epoch: 1 [26880/60000 (45%)]\tLoss: 0.622195\n",
            "Train Epoch: 1 [27520/60000 (46%)]\tLoss: 0.684111\n",
            "Train Epoch: 1 [28160/60000 (47%)]\tLoss: 0.591477\n",
            "Train Epoch: 1 [28800/60000 (48%)]\tLoss: 0.548008\n",
            "Train Epoch: 1 [29440/60000 (49%)]\tLoss: 0.817349\n",
            "Train Epoch: 1 [30080/60000 (50%)]\tLoss: 0.740778\n",
            "Train Epoch: 1 [30720/60000 (51%)]\tLoss: 0.629409\n",
            "Train Epoch: 1 [31360/60000 (52%)]\tLoss: 0.647902\n",
            "Train Epoch: 1 [32000/60000 (53%)]\tLoss: 0.718161\n",
            "Train Epoch: 1 [32640/60000 (54%)]\tLoss: 0.442519\n",
            "Train Epoch: 1 [33280/60000 (55%)]\tLoss: 0.588800\n",
            "Train Epoch: 1 [33920/60000 (57%)]\tLoss: 0.574861\n",
            "Train Epoch: 1 [34560/60000 (58%)]\tLoss: 0.662445\n",
            "Train Epoch: 1 [35200/60000 (59%)]\tLoss: 0.580054\n",
            "Train Epoch: 1 [35840/60000 (60%)]\tLoss: 0.552176\n",
            "Train Epoch: 1 [36480/60000 (61%)]\tLoss: 0.627659\n",
            "Train Epoch: 1 [37120/60000 (62%)]\tLoss: 0.807349\n",
            "Train Epoch: 1 [37760/60000 (63%)]\tLoss: 0.573433\n",
            "Train Epoch: 1 [38400/60000 (64%)]\tLoss: 0.630416\n",
            "Train Epoch: 1 [39040/60000 (65%)]\tLoss: 0.537788\n",
            "Train Epoch: 1 [39680/60000 (66%)]\tLoss: 0.612501\n",
            "Train Epoch: 1 [40320/60000 (67%)]\tLoss: 0.319886\n",
            "Train Epoch: 1 [40960/60000 (68%)]\tLoss: 0.339849\n",
            "Train Epoch: 1 [41600/60000 (69%)]\tLoss: 0.376276\n",
            "Train Epoch: 1 [42240/60000 (70%)]\tLoss: 0.303833\n",
            "Train Epoch: 1 [42880/60000 (71%)]\tLoss: 0.407793\n",
            "Train Epoch: 1 [43520/60000 (72%)]\tLoss: 0.438999\n",
            "Train Epoch: 1 [44160/60000 (74%)]\tLoss: 0.459478\n",
            "Train Epoch: 1 [44800/60000 (75%)]\tLoss: 0.612648\n",
            "Train Epoch: 1 [45440/60000 (76%)]\tLoss: 0.536447\n",
            "Train Epoch: 1 [46080/60000 (77%)]\tLoss: 0.512218\n",
            "Train Epoch: 1 [46720/60000 (78%)]\tLoss: 0.373218\n",
            "Train Epoch: 1 [47360/60000 (79%)]\tLoss: 0.499101\n",
            "Train Epoch: 1 [48000/60000 (80%)]\tLoss: 0.553373\n",
            "Train Epoch: 1 [48640/60000 (81%)]\tLoss: 0.418038\n",
            "Train Epoch: 1 [49280/60000 (82%)]\tLoss: 0.394918\n",
            "Train Epoch: 1 [49920/60000 (83%)]\tLoss: 0.537274\n",
            "Train Epoch: 1 [50560/60000 (84%)]\tLoss: 0.437594\n",
            "Train Epoch: 1 [51200/60000 (85%)]\tLoss: 0.694526\n",
            "Train Epoch: 1 [51840/60000 (86%)]\tLoss: 0.508263\n",
            "Train Epoch: 1 [52480/60000 (87%)]\tLoss: 0.685011\n",
            "Train Epoch: 1 [53120/60000 (88%)]\tLoss: 0.540032\n",
            "Train Epoch: 1 [53760/60000 (90%)]\tLoss: 0.551077\n",
            "Train Epoch: 1 [54400/60000 (91%)]\tLoss: 0.629553\n",
            "Train Epoch: 1 [55040/60000 (92%)]\tLoss: 0.445113\n",
            "Train Epoch: 1 [55680/60000 (93%)]\tLoss: 0.548384\n",
            "Train Epoch: 1 [56320/60000 (94%)]\tLoss: 0.544732\n",
            "Train Epoch: 1 [56960/60000 (95%)]\tLoss: 0.361171\n",
            "Train Epoch: 1 [57600/60000 (96%)]\tLoss: 0.317661\n",
            "Train Epoch: 1 [58240/60000 (97%)]\tLoss: 0.305283\n",
            "Train Epoch: 1 [58880/60000 (98%)]\tLoss: 0.714088\n",
            "Train Epoch: 1 [59520/60000 (99%)]\tLoss: 0.387617\n",
            "\n",
            "Test set: Avg. loss: 0.1872, Accuracy: 9443/10000 (94%)\n",
            "\n",
            "Train Epoch: 2 [0/60000 (0%)]\tLoss: 0.442208\n",
            "Train Epoch: 2 [640/60000 (1%)]\tLoss: 0.447845\n",
            "Train Epoch: 2 [1280/60000 (2%)]\tLoss: 0.504080\n",
            "Train Epoch: 2 [1920/60000 (3%)]\tLoss: 0.503482\n",
            "Train Epoch: 2 [2560/60000 (4%)]\tLoss: 0.302159\n",
            "Train Epoch: 2 [3200/60000 (5%)]\tLoss: 0.168113\n",
            "Train Epoch: 2 [3840/60000 (6%)]\tLoss: 0.485966\n",
            "Train Epoch: 2 [4480/60000 (7%)]\tLoss: 0.411789\n",
            "Train Epoch: 2 [5120/60000 (9%)]\tLoss: 0.390807\n",
            "Train Epoch: 2 [5760/60000 (10%)]\tLoss: 0.648607\n",
            "Train Epoch: 2 [6400/60000 (11%)]\tLoss: 0.560130\n",
            "Train Epoch: 2 [7040/60000 (12%)]\tLoss: 0.312717\n",
            "Train Epoch: 2 [7680/60000 (13%)]\tLoss: 0.454071\n",
            "Train Epoch: 2 [8320/60000 (14%)]\tLoss: 0.635912\n",
            "Train Epoch: 2 [8960/60000 (15%)]\tLoss: 0.492418\n",
            "Train Epoch: 2 [9600/60000 (16%)]\tLoss: 0.447010\n",
            "Train Epoch: 2 [10240/60000 (17%)]\tLoss: 0.309442\n",
            "Train Epoch: 2 [10880/60000 (18%)]\tLoss: 0.495448\n",
            "Train Epoch: 2 [11520/60000 (19%)]\tLoss: 0.325692\n",
            "Train Epoch: 2 [12160/60000 (20%)]\tLoss: 0.320965\n",
            "Train Epoch: 2 [12800/60000 (21%)]\tLoss: 0.480544\n",
            "Train Epoch: 2 [13440/60000 (22%)]\tLoss: 0.458530\n",
            "Train Epoch: 2 [14080/60000 (23%)]\tLoss: 0.479614\n",
            "Train Epoch: 2 [14720/60000 (25%)]\tLoss: 0.361181\n",
            "Train Epoch: 2 [15360/60000 (26%)]\tLoss: 0.200458\n",
            "Train Epoch: 2 [16000/60000 (27%)]\tLoss: 0.251166\n",
            "Train Epoch: 2 [16640/60000 (28%)]\tLoss: 0.371912\n",
            "Train Epoch: 2 [17280/60000 (29%)]\tLoss: 0.419442\n",
            "Train Epoch: 2 [17920/60000 (30%)]\tLoss: 0.335547\n",
            "Train Epoch: 2 [18560/60000 (31%)]\tLoss: 0.350722\n",
            "Train Epoch: 2 [19200/60000 (32%)]\tLoss: 0.503345\n",
            "Train Epoch: 2 [19840/60000 (33%)]\tLoss: 0.345090\n",
            "Train Epoch: 2 [20480/60000 (34%)]\tLoss: 0.364701\n",
            "Train Epoch: 2 [21120/60000 (35%)]\tLoss: 0.356653\n",
            "Train Epoch: 2 [21760/60000 (36%)]\tLoss: 0.499287\n",
            "Train Epoch: 2 [22400/60000 (37%)]\tLoss: 0.613084\n",
            "Train Epoch: 2 [23040/60000 (38%)]\tLoss: 0.495780\n",
            "Train Epoch: 2 [23680/60000 (39%)]\tLoss: 0.356485\n",
            "Train Epoch: 2 [24320/60000 (41%)]\tLoss: 0.393019\n",
            "Train Epoch: 2 [24960/60000 (42%)]\tLoss: 0.209681\n",
            "Train Epoch: 2 [25600/60000 (43%)]\tLoss: 0.201573\n",
            "Train Epoch: 2 [26240/60000 (44%)]\tLoss: 0.398564\n",
            "Train Epoch: 2 [26880/60000 (45%)]\tLoss: 0.299215\n",
            "Train Epoch: 2 [27520/60000 (46%)]\tLoss: 0.214268\n",
            "Train Epoch: 2 [28160/60000 (47%)]\tLoss: 0.168502\n",
            "Train Epoch: 2 [28800/60000 (48%)]\tLoss: 0.260405\n",
            "Train Epoch: 2 [29440/60000 (49%)]\tLoss: 0.503572\n",
            "Train Epoch: 2 [30080/60000 (50%)]\tLoss: 0.291751\n",
            "Train Epoch: 2 [30720/60000 (51%)]\tLoss: 0.305289\n",
            "Train Epoch: 2 [31360/60000 (52%)]\tLoss: 0.434208\n",
            "Train Epoch: 2 [32000/60000 (53%)]\tLoss: 0.670731\n",
            "Train Epoch: 2 [32640/60000 (54%)]\tLoss: 0.310520\n",
            "Train Epoch: 2 [33280/60000 (55%)]\tLoss: 0.278459\n",
            "Train Epoch: 2 [33920/60000 (57%)]\tLoss: 0.446312\n",
            "Train Epoch: 2 [34560/60000 (58%)]\tLoss: 0.404344\n",
            "Train Epoch: 2 [35200/60000 (59%)]\tLoss: 0.424388\n",
            "Train Epoch: 2 [35840/60000 (60%)]\tLoss: 0.451800\n",
            "Train Epoch: 2 [36480/60000 (61%)]\tLoss: 0.341439\n",
            "Train Epoch: 2 [37120/60000 (62%)]\tLoss: 0.460515\n",
            "Train Epoch: 2 [37760/60000 (63%)]\tLoss: 0.441582\n",
            "Train Epoch: 2 [38400/60000 (64%)]\tLoss: 0.275357\n",
            "Train Epoch: 2 [39040/60000 (65%)]\tLoss: 0.192877\n",
            "Train Epoch: 2 [39680/60000 (66%)]\tLoss: 0.426731\n",
            "Train Epoch: 2 [40320/60000 (67%)]\tLoss: 0.198523\n",
            "Train Epoch: 2 [40960/60000 (68%)]\tLoss: 0.482548\n",
            "Train Epoch: 2 [41600/60000 (69%)]\tLoss: 0.138616\n",
            "Train Epoch: 2 [42240/60000 (70%)]\tLoss: 0.343017\n",
            "Train Epoch: 2 [42880/60000 (71%)]\tLoss: 0.459711\n",
            "Train Epoch: 2 [43520/60000 (72%)]\tLoss: 0.285498\n",
            "Train Epoch: 2 [44160/60000 (74%)]\tLoss: 0.398008\n",
            "Train Epoch: 2 [44800/60000 (75%)]\tLoss: 0.223127\n",
            "Train Epoch: 2 [45440/60000 (76%)]\tLoss: 0.489283\n",
            "Train Epoch: 2 [46080/60000 (77%)]\tLoss: 0.288828\n",
            "Train Epoch: 2 [46720/60000 (78%)]\tLoss: 0.278747\n",
            "Train Epoch: 2 [47360/60000 (79%)]\tLoss: 0.189733\n",
            "Train Epoch: 2 [48000/60000 (80%)]\tLoss: 0.269402\n",
            "Train Epoch: 2 [48640/60000 (81%)]\tLoss: 0.374857\n",
            "Train Epoch: 2 [49280/60000 (82%)]\tLoss: 0.439631\n",
            "Train Epoch: 2 [49920/60000 (83%)]\tLoss: 0.274865\n",
            "Train Epoch: 2 [50560/60000 (84%)]\tLoss: 0.318447\n",
            "Train Epoch: 2 [51200/60000 (85%)]\tLoss: 0.458716\n",
            "Train Epoch: 2 [51840/60000 (86%)]\tLoss: 0.311418\n",
            "Train Epoch: 2 [52480/60000 (87%)]\tLoss: 0.344562\n",
            "Train Epoch: 2 [53120/60000 (88%)]\tLoss: 0.236710\n",
            "Train Epoch: 2 [53760/60000 (90%)]\tLoss: 0.247233\n",
            "Train Epoch: 2 [54400/60000 (91%)]\tLoss: 0.206569\n",
            "Train Epoch: 2 [55040/60000 (92%)]\tLoss: 0.490025\n",
            "Train Epoch: 2 [55680/60000 (93%)]\tLoss: 0.191132\n",
            "Train Epoch: 2 [56320/60000 (94%)]\tLoss: 0.370736\n",
            "Train Epoch: 2 [56960/60000 (95%)]\tLoss: 0.217195\n",
            "Train Epoch: 2 [57600/60000 (96%)]\tLoss: 0.550931\n",
            "Train Epoch: 2 [58240/60000 (97%)]\tLoss: 0.488886\n",
            "Train Epoch: 2 [58880/60000 (98%)]\tLoss: 0.265828\n",
            "Train Epoch: 2 [59520/60000 (99%)]\tLoss: 0.293356\n",
            "\n",
            "Test set: Avg. loss: 0.1160, Accuracy: 9638/10000 (96%)\n",
            "\n",
            "Train Epoch: 3 [0/60000 (0%)]\tLoss: 0.204812\n",
            "Train Epoch: 3 [640/60000 (1%)]\tLoss: 0.238215\n",
            "Train Epoch: 3 [1280/60000 (2%)]\tLoss: 0.400842\n",
            "Train Epoch: 3 [1920/60000 (3%)]\tLoss: 0.242631\n",
            "Train Epoch: 3 [2560/60000 (4%)]\tLoss: 0.255633\n",
            "Train Epoch: 3 [3200/60000 (5%)]\tLoss: 0.324542\n",
            "Train Epoch: 3 [3840/60000 (6%)]\tLoss: 0.287544\n",
            "Train Epoch: 3 [4480/60000 (7%)]\tLoss: 0.465442\n",
            "Train Epoch: 3 [5120/60000 (9%)]\tLoss: 0.507911\n",
            "Train Epoch: 3 [5760/60000 (10%)]\tLoss: 0.388563\n",
            "Train Epoch: 3 [6400/60000 (11%)]\tLoss: 0.307930\n",
            "Train Epoch: 3 [7040/60000 (12%)]\tLoss: 0.343823\n",
            "Train Epoch: 3 [7680/60000 (13%)]\tLoss: 0.258749\n",
            "Train Epoch: 3 [8320/60000 (14%)]\tLoss: 0.166340\n",
            "Train Epoch: 3 [8960/60000 (15%)]\tLoss: 0.272343\n",
            "Train Epoch: 3 [9600/60000 (16%)]\tLoss: 0.249465\n",
            "Train Epoch: 3 [10240/60000 (17%)]\tLoss: 0.281794\n",
            "Train Epoch: 3 [10880/60000 (18%)]\tLoss: 0.299250\n",
            "Train Epoch: 3 [11520/60000 (19%)]\tLoss: 0.448470\n",
            "Train Epoch: 3 [12160/60000 (20%)]\tLoss: 0.211124\n",
            "Train Epoch: 3 [12800/60000 (21%)]\tLoss: 0.437799\n",
            "Train Epoch: 3 [13440/60000 (22%)]\tLoss: 0.323922\n",
            "Train Epoch: 3 [14080/60000 (23%)]\tLoss: 0.340532\n",
            "Train Epoch: 3 [14720/60000 (25%)]\tLoss: 0.324659\n",
            "Train Epoch: 3 [15360/60000 (26%)]\tLoss: 0.329808\n",
            "Train Epoch: 3 [16000/60000 (27%)]\tLoss: 0.793330\n",
            "Train Epoch: 3 [16640/60000 (28%)]\tLoss: 0.530736\n",
            "Train Epoch: 3 [17280/60000 (29%)]\tLoss: 0.450105\n",
            "Train Epoch: 3 [17920/60000 (30%)]\tLoss: 0.307535\n",
            "Train Epoch: 3 [18560/60000 (31%)]\tLoss: 0.303999\n",
            "Train Epoch: 3 [19200/60000 (32%)]\tLoss: 0.370741\n",
            "Train Epoch: 3 [19840/60000 (33%)]\tLoss: 0.368263\n",
            "Train Epoch: 3 [20480/60000 (34%)]\tLoss: 0.194721\n",
            "Train Epoch: 3 [21120/60000 (35%)]\tLoss: 0.186387\n",
            "Train Epoch: 3 [21760/60000 (36%)]\tLoss: 0.328068\n",
            "Train Epoch: 3 [22400/60000 (37%)]\tLoss: 0.235862\n",
            "Train Epoch: 3 [23040/60000 (38%)]\tLoss: 0.438401\n",
            "Train Epoch: 3 [23680/60000 (39%)]\tLoss: 0.218883\n",
            "Train Epoch: 3 [24320/60000 (41%)]\tLoss: 0.257633\n",
            "Train Epoch: 3 [24960/60000 (42%)]\tLoss: 0.180592\n",
            "Train Epoch: 3 [25600/60000 (43%)]\tLoss: 0.422925\n",
            "Train Epoch: 3 [26240/60000 (44%)]\tLoss: 0.196480\n",
            "Train Epoch: 3 [26880/60000 (45%)]\tLoss: 0.204240\n",
            "Train Epoch: 3 [27520/60000 (46%)]\tLoss: 0.196593\n",
            "Train Epoch: 3 [28160/60000 (47%)]\tLoss: 0.332314\n",
            "Train Epoch: 3 [28800/60000 (48%)]\tLoss: 0.471897\n",
            "Train Epoch: 3 [29440/60000 (49%)]\tLoss: 0.156446\n",
            "Train Epoch: 3 [30080/60000 (50%)]\tLoss: 0.269295\n",
            "Train Epoch: 3 [30720/60000 (51%)]\tLoss: 0.227168\n",
            "Train Epoch: 3 [31360/60000 (52%)]\tLoss: 0.231569\n",
            "Train Epoch: 3 [32000/60000 (53%)]\tLoss: 0.455751\n",
            "Train Epoch: 3 [32640/60000 (54%)]\tLoss: 0.346512\n",
            "Train Epoch: 3 [33280/60000 (55%)]\tLoss: 0.174519\n",
            "Train Epoch: 3 [33920/60000 (57%)]\tLoss: 0.452074\n",
            "Train Epoch: 3 [34560/60000 (58%)]\tLoss: 0.241745\n",
            "Train Epoch: 3 [35200/60000 (59%)]\tLoss: 0.334344\n",
            "Train Epoch: 3 [35840/60000 (60%)]\tLoss: 0.504330\n",
            "Train Epoch: 3 [36480/60000 (61%)]\tLoss: 0.187515\n",
            "Train Epoch: 3 [37120/60000 (62%)]\tLoss: 0.194708\n",
            "Train Epoch: 3 [37760/60000 (63%)]\tLoss: 0.298133\n",
            "Train Epoch: 3 [38400/60000 (64%)]\tLoss: 0.459266\n",
            "Train Epoch: 3 [39040/60000 (65%)]\tLoss: 0.350435\n",
            "Train Epoch: 3 [39680/60000 (66%)]\tLoss: 0.199374\n",
            "Train Epoch: 3 [40320/60000 (67%)]\tLoss: 0.232973\n",
            "Train Epoch: 3 [40960/60000 (68%)]\tLoss: 0.450133\n",
            "Train Epoch: 3 [41600/60000 (69%)]\tLoss: 0.324431\n",
            "Train Epoch: 3 [42240/60000 (70%)]\tLoss: 0.380245\n",
            "Train Epoch: 3 [42880/60000 (71%)]\tLoss: 0.177710\n",
            "Train Epoch: 3 [43520/60000 (72%)]\tLoss: 0.230803\n",
            "Train Epoch: 3 [44160/60000 (74%)]\tLoss: 0.308907\n",
            "Train Epoch: 3 [44800/60000 (75%)]\tLoss: 0.164911\n",
            "Train Epoch: 3 [45440/60000 (76%)]\tLoss: 0.244866\n",
            "Train Epoch: 3 [46080/60000 (77%)]\tLoss: 0.348940\n",
            "Train Epoch: 3 [46720/60000 (78%)]\tLoss: 0.195437\n",
            "Train Epoch: 3 [47360/60000 (79%)]\tLoss: 0.366260\n",
            "Train Epoch: 3 [48000/60000 (80%)]\tLoss: 0.337822\n",
            "Train Epoch: 3 [48640/60000 (81%)]\tLoss: 0.215155\n",
            "Train Epoch: 3 [49280/60000 (82%)]\tLoss: 0.220999\n",
            "Train Epoch: 3 [49920/60000 (83%)]\tLoss: 0.485653\n",
            "Train Epoch: 3 [50560/60000 (84%)]\tLoss: 0.407897\n",
            "Train Epoch: 3 [51200/60000 (85%)]\tLoss: 0.413288\n",
            "Train Epoch: 3 [51840/60000 (86%)]\tLoss: 0.255480\n",
            "Train Epoch: 3 [52480/60000 (87%)]\tLoss: 0.510203\n",
            "Train Epoch: 3 [53120/60000 (88%)]\tLoss: 0.224752\n",
            "Train Epoch: 3 [53760/60000 (90%)]\tLoss: 0.185580\n",
            "Train Epoch: 3 [54400/60000 (91%)]\tLoss: 0.395668\n",
            "Train Epoch: 3 [55040/60000 (92%)]\tLoss: 0.306156\n",
            "Train Epoch: 3 [55680/60000 (93%)]\tLoss: 0.177656\n",
            "Train Epoch: 3 [56320/60000 (94%)]\tLoss: 0.297648\n",
            "Train Epoch: 3 [56960/60000 (95%)]\tLoss: 0.340181\n",
            "Train Epoch: 3 [57600/60000 (96%)]\tLoss: 0.507147\n",
            "Train Epoch: 3 [58240/60000 (97%)]\tLoss: 0.369363\n",
            "Train Epoch: 3 [58880/60000 (98%)]\tLoss: 0.117143\n",
            "Train Epoch: 3 [59520/60000 (99%)]\tLoss: 0.316700\n",
            "\n",
            "Test set: Avg. loss: 0.0993, Accuracy: 9685/10000 (97%)\n",
            "\n"
          ]
        }
      ]
    },
    {
      "cell_type": "code",
      "source": [
        "print(len(test_counter))\n",
        "print(len(test_losses))"
      ],
      "metadata": {
        "id": "80g20K0OvHFu",
        "colab": {
          "base_uri": "https://localhost:8080/"
        },
        "outputId": "a4f42c18-1d7f-4fa9-8883-8e618343f5c0"
      },
      "execution_count": null,
      "outputs": [
        {
          "output_type": "stream",
          "name": "stdout",
          "text": [
            "4\n",
            "4\n"
          ]
        }
      ]
    },
    {
      "cell_type": "code",
      "source": [
        "# Evaluating the Model's Performance\n",
        "\n",
        "\"\"\" With just 3 epochs of training we already managed to \n",
        "achieve 97% accuracy on the test set! We started \n",
        "out with randomly initialized parameters and as \n",
        "expected only got about 10% accuracy on the test set before starting the training. \"\"\"\n",
        "\n",
        "# Let's plot our training curve.\n",
        "fig = plt.figure()\n",
        "plt.plot(train_counter, train_losses, color='blue')\n",
        "plt.scatter(test_counter, test_losses, color='red')\n",
        "plt.legend(['Train Loss', 'Test Loss'], loc='upper right')\n",
        "plt.xlabel('number of training examples seen')\n",
        "plt.ylabel('negative log likelihood loss')\n",
        "fig"
      ],
      "metadata": {
        "id": "uwcwHWKvpVWi",
        "colab": {
          "base_uri": "https://localhost:8080/",
          "height": 541
        },
        "outputId": "ad577c58-534e-48ed-ab0b-1a55f678f0c3"
      },
      "execution_count": null,
      "outputs": [
        {
          "output_type": "execute_result",
          "data": {
            "text/plain": [
              "<Figure size 432x288 with 1 Axes>"
            ],
            "image/png": "[encoded data removed]"
          },
          "metadata": {},
          "execution_count": 31
        },
        {
          "output_type": "display_data",
          "data": {
            "text/plain": [
              "<Figure size 432x288 with 1 Axes>"
            ],
            "image/png": "[encoded data removed]"
          },
          "metadata": {
            "needs_background": "light"
          }
        }
      ]
    },
    {
      "cell_type": "code",
      "source": [
        "with torch.no_grad():\n",
        "  output = network(example_data)"
      ],
      "metadata": {
        "id": "hCX3Nth8pkXS"
      },
      "execution_count": null,
      "outputs": []
    },
    {
      "cell_type": "code",
      "source": [
        "# Visualization of the Predicted Results\n",
        "fig = plt.figure()\n",
        "for i in range(6):\n",
        "  plt.subplot(2,3,i+1)\n",
        "  plt.tight_layout()\n",
        "  plt.imshow(example_data[i][0], cmap='gray', interpolation='none')\n",
        "  plt.title(\"Prediction: {}\".format(\n",
        "    output.data.max(1, keepdim=True)[1][i].item()))\n",
        "  plt.xticks([])\n",
        "  plt.yticks([])\n",
        "fig"
      ],
      "metadata": {
        "id": "hO8G6lhVptQ1",
        "colab": {
          "base_uri": "https://localhost:8080/",
          "height": 551
        },
        "outputId": "214e3f7a-eeb7-4ff4-f820-d79999411c8e"
      },
      "execution_count": null,
      "outputs": [
        {
          "output_type": "execute_result",
          "data": {
            "text/plain": [
              "<Figure size 432x288 with 6 Axes>"
            ],
            "image/png": "[encoded data removed]"
          },
          "metadata": {},
          "execution_count": 33
        },
        {
          "output_type": "display_data",
          "data": {
            "text/plain": [
              "<Figure size 432x288 with 6 Axes>"
            ],
            "image/png": "[encoded data removed]"
          },
          "metadata": {}
        }
      ]
    },
    {
      "cell_type": "code",
      "source": [
        "# Continued Training from Checkpoints \n",
        "\n",
        "\"\"\" Now let's continue training the network, or rather see how we can continue training from the state_dicts we saved during \n",
        "our first training run. We'll initialize a new set of network and optimizers. \"\"\"\n",
        "\n",
        "continued_network = Net()\n",
        "continued_optimizer = optim.SGD(network.parameters(), lr=learning_rate,\n",
        "                                momentum=momentum)\n",
        "\n"
      ],
      "metadata": {
        "id": "Si-_w_gRp2Bw"
      },
      "execution_count": null,
      "outputs": []
    },
    {
      "cell_type": "code",
      "source": [
        "\"\"\" Using .load_state_dict() we can now load the internal state of the network and \n",
        "optimizer when we last saved them. \"\"\"\n",
        "\n",
        "network_state_dict = torch.load(\"/content/results/model.pth\")\n",
        "continued_network.load_state_dict(network_state_dict)\n",
        "\n",
        "optimizer_state_dict = torch.load(\"/content/results/optimizer.pth\")\n",
        "continued_optimizer.load_state_dict(optimizer_state_dict)"
      ],
      "metadata": {
        "id": "8SfgO-XtqB7f"
      },
      "execution_count": null,
      "outputs": []
    },
    {
      "cell_type": "code",
      "source": [
        "\"\"\"Again running a training loop should immediately pick up the training where we left it. \n",
        "To check on that let's simply use the same lists as before to keep track of the loss values. \"\"\"\n",
        "\n",
        "for i in range(4,9):\n",
        "  test_counter.append(i*len(train_loader.dataset))\n",
        "  train(i)\n",
        "  test()"
      ],
      "metadata": {
        "id": "pkrpXIQfqLF8",
        "colab": {
          "base_uri": "https://localhost:8080/"
        },
        "outputId": "a125e10c-e5f9-46c7-8516-a69ab4ce8458"
      },
      "execution_count": null,
      "outputs": [
        {
          "output_type": "stream",
          "name": "stdout",
          "text": [
            "Train Epoch: 4 [0/60000 (0%)]\tLoss: 0.190623\n",
            "Train Epoch: 4 [640/60000 (1%)]\tLoss: 0.346566\n",
            "Train Epoch: 4 [1280/60000 (2%)]\tLoss: 0.358326\n",
            "Train Epoch: 4 [1920/60000 (3%)]\tLoss: 0.412771\n",
            "Train Epoch: 4 [2560/60000 (4%)]\tLoss: 0.505118\n",
            "Train Epoch: 4 [3200/60000 (5%)]\tLoss: 0.134603\n",
            "Train Epoch: 4 [3840/60000 (6%)]\tLoss: 0.282022\n",
            "Train Epoch: 4 [4480/60000 (7%)]\tLoss: 0.344639\n",
            "Train Epoch: 4 [5120/60000 (9%)]\tLoss: 0.156311\n",
            "Train Epoch: 4 [5760/60000 (10%)]\tLoss: 0.205876\n",
            "Train Epoch: 4 [6400/60000 (11%)]\tLoss: 0.160746\n",
            "Train Epoch: 4 [7040/60000 (12%)]\tLoss: 0.146107\n",
            "Train Epoch: 4 [7680/60000 (13%)]\tLoss: 0.221028\n",
            "Train Epoch: 4 [8320/60000 (14%)]\tLoss: 0.383773\n",
            "Train Epoch: 4 [8960/60000 (15%)]\tLoss: 0.436302\n",
            "Train Epoch: 4 [9600/60000 (16%)]\tLoss: 0.147227\n",
            "Train Epoch: 4 [10240/60000 (17%)]\tLoss: 0.150755\n",
            "Train Epoch: 4 [10880/60000 (18%)]\tLoss: 0.429051\n",
            "Train Epoch: 4 [11520/60000 (19%)]\tLoss: 0.141399\n",
            "Train Epoch: 4 [12160/60000 (20%)]\tLoss: 0.239203\n",
            "Train Epoch: 4 [12800/60000 (21%)]\tLoss: 0.307970\n",
            "Train Epoch: 4 [13440/60000 (22%)]\tLoss: 0.240597\n",
            "Train Epoch: 4 [14080/60000 (23%)]\tLoss: 0.308527\n",
            "Train Epoch: 4 [14720/60000 (25%)]\tLoss: 0.319333\n",
            "Train Epoch: 4 [15360/60000 (26%)]\tLoss: 0.132204\n",
            "Train Epoch: 4 [16000/60000 (27%)]\tLoss: 0.134559\n",
            "Train Epoch: 4 [16640/60000 (28%)]\tLoss: 0.188901\n",
            "Train Epoch: 4 [17280/60000 (29%)]\tLoss: 0.218153\n",
            "Train Epoch: 4 [17920/60000 (30%)]\tLoss: 0.386578\n",
            "Train Epoch: 4 [18560/60000 (31%)]\tLoss: 0.275694\n",
            "Train Epoch: 4 [19200/60000 (32%)]\tLoss: 0.312603\n",
            "Train Epoch: 4 [19840/60000 (33%)]\tLoss: 0.419374\n",
            "Train Epoch: 4 [20480/60000 (34%)]\tLoss: 0.208516\n",
            "Train Epoch: 4 [21120/60000 (35%)]\tLoss: 0.343528\n",
            "Train Epoch: 4 [21760/60000 (36%)]\tLoss: 0.054903\n",
            "Train Epoch: 4 [22400/60000 (37%)]\tLoss: 0.240575\n",
            "Train Epoch: 4 [23040/60000 (38%)]\tLoss: 0.300961\n",
            "Train Epoch: 4 [23680/60000 (39%)]\tLoss: 0.293547\n",
            "Train Epoch: 4 [24320/60000 (41%)]\tLoss: 0.158967\n",
            "Train Epoch: 4 [24960/60000 (42%)]\tLoss: 0.158318\n",
            "Train Epoch: 4 [25600/60000 (43%)]\tLoss: 0.398562\n",
            "Train Epoch: 4 [26240/60000 (44%)]\tLoss: 0.200061\n",
            "Train Epoch: 4 [26880/60000 (45%)]\tLoss: 0.360588\n",
            "Train Epoch: 4 [27520/60000 (46%)]\tLoss: 0.153006\n",
            "Train Epoch: 4 [28160/60000 (47%)]\tLoss: 0.328481\n",
            "Train Epoch: 4 [28800/60000 (48%)]\tLoss: 0.233060\n",
            "Train Epoch: 4 [29440/60000 (49%)]\tLoss: 0.205273\n",
            "Train Epoch: 4 [30080/60000 (50%)]\tLoss: 0.157980\n",
            "Train Epoch: 4 [30720/60000 (51%)]\tLoss: 0.213827\n",
            "Train Epoch: 4 [31360/60000 (52%)]\tLoss: 0.117557\n",
            "Train Epoch: 4 [32000/60000 (53%)]\tLoss: 0.219770\n",
            "Train Epoch: 4 [32640/60000 (54%)]\tLoss: 0.294921\n",
            "Train Epoch: 4 [33280/60000 (55%)]\tLoss: 0.197918\n",
            "Train Epoch: 4 [33920/60000 (57%)]\tLoss: 0.387902\n",
            "Train Epoch: 4 [34560/60000 (58%)]\tLoss: 0.232358\n",
            "Train Epoch: 4 [35200/60000 (59%)]\tLoss: 0.125799\n",
            "Train Epoch: 4 [35840/60000 (60%)]\tLoss: 0.270891\n",
            "Train Epoch: 4 [36480/60000 (61%)]\tLoss: 0.154885\n",
            "Train Epoch: 4 [37120/60000 (62%)]\tLoss: 0.192967\n",
            "Train Epoch: 4 [37760/60000 (63%)]\tLoss: 0.297608\n",
            "Train Epoch: 4 [38400/60000 (64%)]\tLoss: 0.196834\n",
            "Train Epoch: 4 [39040/60000 (65%)]\tLoss: 0.116771\n",
            "Train Epoch: 4 [39680/60000 (66%)]\tLoss: 0.187276\n",
            "Train Epoch: 4 [40320/60000 (67%)]\tLoss: 0.322281\n",
            "Train Epoch: 4 [40960/60000 (68%)]\tLoss: 0.224827\n",
            "Train Epoch: 4 [41600/60000 (69%)]\tLoss: 0.138177\n",
            "Train Epoch: 4 [42240/60000 (70%)]\tLoss: 0.294625\n",
            "Train Epoch: 4 [42880/60000 (71%)]\tLoss: 0.289337\n",
            "Train Epoch: 4 [43520/60000 (72%)]\tLoss: 0.271762\n",
            "Train Epoch: 4 [44160/60000 (74%)]\tLoss: 0.305096\n",
            "Train Epoch: 4 [44800/60000 (75%)]\tLoss: 0.287320\n",
            "Train Epoch: 4 [45440/60000 (76%)]\tLoss: 0.214180\n",
            "Train Epoch: 4 [46080/60000 (77%)]\tLoss: 0.192917\n",
            "Train Epoch: 4 [46720/60000 (78%)]\tLoss: 0.304515\n",
            "Train Epoch: 4 [47360/60000 (79%)]\tLoss: 0.135571\n",
            "Train Epoch: 4 [48000/60000 (80%)]\tLoss: 0.280943\n",
            "Train Epoch: 4 [48640/60000 (81%)]\tLoss: 0.391120\n",
            "Train Epoch: 4 [49280/60000 (82%)]\tLoss: 0.164922\n",
            "Train Epoch: 4 [49920/60000 (83%)]\tLoss: 0.296604\n",
            "Train Epoch: 4 [50560/60000 (84%)]\tLoss: 0.201359\n",
            "Train Epoch: 4 [51200/60000 (85%)]\tLoss: 0.388916\n",
            "Train Epoch: 4 [51840/60000 (86%)]\tLoss: 0.254115\n",
            "Train Epoch: 4 [52480/60000 (87%)]\tLoss: 0.155633\n",
            "Train Epoch: 4 [53120/60000 (88%)]\tLoss: 0.277324\n",
            "Train Epoch: 4 [53760/60000 (90%)]\tLoss: 0.272377\n",
            "Train Epoch: 4 [54400/60000 (91%)]\tLoss: 0.319442\n",
            "Train Epoch: 4 [55040/60000 (92%)]\tLoss: 0.316659\n",
            "Train Epoch: 4 [55680/60000 (93%)]\tLoss: 0.301264\n",
            "Train Epoch: 4 [56320/60000 (94%)]\tLoss: 0.237395\n",
            "Train Epoch: 4 [56960/60000 (95%)]\tLoss: 0.222394\n",
            "Train Epoch: 4 [57600/60000 (96%)]\tLoss: 0.198388\n",
            "Train Epoch: 4 [58240/60000 (97%)]\tLoss: 0.182590\n",
            "Train Epoch: 4 [58880/60000 (98%)]\tLoss: 0.293288\n",
            "Train Epoch: 4 [59520/60000 (99%)]\tLoss: 0.274854\n",
            "\n",
            "Test set: Avg. loss: 0.0805, Accuracy: 9744/10000 (97%)\n",
            "\n",
            "Train Epoch: 5 [0/60000 (0%)]\tLoss: 0.726884\n",
            "Train Epoch: 5 [640/60000 (1%)]\tLoss: 0.258035\n",
            "Train Epoch: 5 [1280/60000 (2%)]\tLoss: 0.435037\n",
            "Train Epoch: 5 [1920/60000 (3%)]\tLoss: 0.287977\n",
            "Train Epoch: 5 [2560/60000 (4%)]\tLoss: 0.104667\n",
            "Train Epoch: 5 [3200/60000 (5%)]\tLoss: 0.240423\n",
            "Train Epoch: 5 [3840/60000 (6%)]\tLoss: 0.204887\n",
            "Train Epoch: 5 [4480/60000 (7%)]\tLoss: 0.193183\n",
            "Train Epoch: 5 [5120/60000 (9%)]\tLoss: 0.178128\n",
            "Train Epoch: 5 [5760/60000 (10%)]\tLoss: 0.265426\n",
            "Train Epoch: 5 [6400/60000 (11%)]\tLoss: 0.200256\n",
            "Train Epoch: 5 [7040/60000 (12%)]\tLoss: 0.214021\n",
            "Train Epoch: 5 [7680/60000 (13%)]\tLoss: 0.152365\n",
            "Train Epoch: 5 [8320/60000 (14%)]\tLoss: 0.209903\n",
            "Train Epoch: 5 [8960/60000 (15%)]\tLoss: 0.216729\n",
            "Train Epoch: 5 [9600/60000 (16%)]\tLoss: 0.388168\n",
            "Train Epoch: 5 [10240/60000 (17%)]\tLoss: 0.382145\n",
            "Train Epoch: 5 [10880/60000 (18%)]\tLoss: 0.397691\n",
            "Train Epoch: 5 [11520/60000 (19%)]\tLoss: 0.246120\n",
            "Train Epoch: 5 [12160/60000 (20%)]\tLoss: 0.096980\n",
            "Train Epoch: 5 [12800/60000 (21%)]\tLoss: 0.266593\n",
            "Train Epoch: 5 [13440/60000 (22%)]\tLoss: 0.287932\n",
            "Train Epoch: 5 [14080/60000 (23%)]\tLoss: 0.202665\n",
            "Train Epoch: 5 [14720/60000 (25%)]\tLoss: 0.236797\n",
            "Train Epoch: 5 [15360/60000 (26%)]\tLoss: 0.109096\n",
            "Train Epoch: 5 [16000/60000 (27%)]\tLoss: 0.171751\n",
            "Train Epoch: 5 [16640/60000 (28%)]\tLoss: 0.329304\n",
            "Train Epoch: 5 [17280/60000 (29%)]\tLoss: 0.147115\n",
            "Train Epoch: 5 [17920/60000 (30%)]\tLoss: 0.192628\n",
            "Train Epoch: 5 [18560/60000 (31%)]\tLoss: 0.085417\n",
            "Train Epoch: 5 [19200/60000 (32%)]\tLoss: 0.217449\n",
            "Train Epoch: 5 [19840/60000 (33%)]\tLoss: 0.255906\n",
            "Train Epoch: 5 [20480/60000 (34%)]\tLoss: 0.144577\n",
            "Train Epoch: 5 [21120/60000 (35%)]\tLoss: 0.277487\n",
            "Train Epoch: 5 [21760/60000 (36%)]\tLoss: 0.275445\n",
            "Train Epoch: 5 [22400/60000 (37%)]\tLoss: 0.108042\n",
            "Train Epoch: 5 [23040/60000 (38%)]\tLoss: 0.281127\n",
            "Train Epoch: 5 [23680/60000 (39%)]\tLoss: 0.154723\n",
            "Train Epoch: 5 [24320/60000 (41%)]\tLoss: 0.115736\n",
            "Train Epoch: 5 [24960/60000 (42%)]\tLoss: 0.277425\n",
            "Train Epoch: 5 [25600/60000 (43%)]\tLoss: 0.110681\n",
            "Train Epoch: 5 [26240/60000 (44%)]\tLoss: 0.195538\n",
            "Train Epoch: 5 [26880/60000 (45%)]\tLoss: 0.354634\n",
            "Train Epoch: 5 [27520/60000 (46%)]\tLoss: 0.218310\n",
            "Train Epoch: 5 [28160/60000 (47%)]\tLoss: 0.119288\n",
            "Train Epoch: 5 [28800/60000 (48%)]\tLoss: 0.167583\n",
            "Train Epoch: 5 [29440/60000 (49%)]\tLoss: 0.299614\n",
            "Train Epoch: 5 [30080/60000 (50%)]\tLoss: 0.162525\n",
            "Train Epoch: 5 [30720/60000 (51%)]\tLoss: 0.187157\n",
            "Train Epoch: 5 [31360/60000 (52%)]\tLoss: 0.391694\n",
            "Train Epoch: 5 [32000/60000 (53%)]\tLoss: 0.306185\n",
            "Train Epoch: 5 [32640/60000 (54%)]\tLoss: 0.264130\n",
            "Train Epoch: 5 [33280/60000 (55%)]\tLoss: 0.201510\n",
            "Train Epoch: 5 [33920/60000 (57%)]\tLoss: 0.238018\n",
            "Train Epoch: 5 [34560/60000 (58%)]\tLoss: 0.137697\n",
            "Train Epoch: 5 [35200/60000 (59%)]\tLoss: 0.178371\n",
            "Train Epoch: 5 [35840/60000 (60%)]\tLoss: 0.233715\n",
            "Train Epoch: 5 [36480/60000 (61%)]\tLoss: 0.082136\n",
            "Train Epoch: 5 [37120/60000 (62%)]\tLoss: 0.123691\n",
            "Train Epoch: 5 [37760/60000 (63%)]\tLoss: 0.145170\n",
            "Train Epoch: 5 [38400/60000 (64%)]\tLoss: 0.193481\n",
            "Train Epoch: 5 [39040/60000 (65%)]\tLoss: 0.612138\n",
            "Train Epoch: 5 [39680/60000 (66%)]\tLoss: 0.254030\n",
            "Train Epoch: 5 [40320/60000 (67%)]\tLoss: 0.140309\n",
            "Train Epoch: 5 [40960/60000 (68%)]\tLoss: 0.155520\n",
            "Train Epoch: 5 [41600/60000 (69%)]\tLoss: 0.190547\n",
            "Train Epoch: 5 [42240/60000 (70%)]\tLoss: 0.242988\n",
            "Train Epoch: 5 [42880/60000 (71%)]\tLoss: 0.241781\n",
            "Train Epoch: 5 [43520/60000 (72%)]\tLoss: 0.296910\n",
            "Train Epoch: 5 [44160/60000 (74%)]\tLoss: 0.119716\n",
            "Train Epoch: 5 [44800/60000 (75%)]\tLoss: 0.444532\n",
            "Train Epoch: 5 [45440/60000 (76%)]\tLoss: 0.241720\n",
            "Train Epoch: 5 [46080/60000 (77%)]\tLoss: 0.234357\n",
            "Train Epoch: 5 [46720/60000 (78%)]\tLoss: 0.238545\n",
            "Train Epoch: 5 [47360/60000 (79%)]\tLoss: 0.195917\n",
            "Train Epoch: 5 [48000/60000 (80%)]\tLoss: 0.336685\n",
            "Train Epoch: 5 [48640/60000 (81%)]\tLoss: 0.239899\n",
            "Train Epoch: 5 [49280/60000 (82%)]\tLoss: 0.210706\n",
            "Train Epoch: 5 [49920/60000 (83%)]\tLoss: 0.372815\n",
            "Train Epoch: 5 [50560/60000 (84%)]\tLoss: 0.108337\n",
            "Train Epoch: 5 [51200/60000 (85%)]\tLoss: 0.336380\n",
            "Train Epoch: 5 [51840/60000 (86%)]\tLoss: 0.157717\n",
            "Train Epoch: 5 [52480/60000 (87%)]\tLoss: 0.300390\n",
            "Train Epoch: 5 [53120/60000 (88%)]\tLoss: 0.103111\n",
            "Train Epoch: 5 [53760/60000 (90%)]\tLoss: 0.134274\n",
            "Train Epoch: 5 [54400/60000 (91%)]\tLoss: 0.110692\n",
            "Train Epoch: 5 [55040/60000 (92%)]\tLoss: 0.311131\n",
            "Train Epoch: 5 [55680/60000 (93%)]\tLoss: 0.149701\n",
            "Train Epoch: 5 [56320/60000 (94%)]\tLoss: 0.171772\n",
            "Train Epoch: 5 [56960/60000 (95%)]\tLoss: 0.370368\n",
            "Train Epoch: 5 [57600/60000 (96%)]\tLoss: 0.335226\n",
            "Train Epoch: 5 [58240/60000 (97%)]\tLoss: 0.214974\n",
            "Train Epoch: 5 [58880/60000 (98%)]\tLoss: 0.148997\n",
            "Train Epoch: 5 [59520/60000 (99%)]\tLoss: 0.111345\n",
            "\n",
            "Test set: Avg. loss: 0.0724, Accuracy: 9778/10000 (98%)\n",
            "\n",
            "Train Epoch: 6 [0/60000 (0%)]\tLoss: 0.357018\n",
            "Train Epoch: 6 [640/60000 (1%)]\tLoss: 0.398988\n",
            "Train Epoch: 6 [1280/60000 (2%)]\tLoss: 0.329728\n",
            "Train Epoch: 6 [1920/60000 (3%)]\tLoss: 0.134179\n",
            "Train Epoch: 6 [2560/60000 (4%)]\tLoss: 0.168154\n",
            "Train Epoch: 6 [3200/60000 (5%)]\tLoss: 0.287061\n",
            "Train Epoch: 6 [3840/60000 (6%)]\tLoss: 0.297659\n",
            "Train Epoch: 6 [4480/60000 (7%)]\tLoss: 0.296212\n",
            "Train Epoch: 6 [5120/60000 (9%)]\tLoss: 0.147936\n",
            "Train Epoch: 6 [5760/60000 (10%)]\tLoss: 0.210824\n",
            "Train Epoch: 6 [6400/60000 (11%)]\tLoss: 0.240052\n",
            "Train Epoch: 6 [7040/60000 (12%)]\tLoss: 0.288035\n",
            "Train Epoch: 6 [7680/60000 (13%)]\tLoss: 0.258093\n",
            "Train Epoch: 6 [8320/60000 (14%)]\tLoss: 0.166502\n",
            "Train Epoch: 6 [8960/60000 (15%)]\tLoss: 0.194356\n",
            "Train Epoch: 6 [9600/60000 (16%)]\tLoss: 0.306947\n",
            "Train Epoch: 6 [10240/60000 (17%)]\tLoss: 0.250742\n",
            "Train Epoch: 6 [10880/60000 (18%)]\tLoss: 0.219038\n",
            "Train Epoch: 6 [11520/60000 (19%)]\tLoss: 0.240126\n",
            "Train Epoch: 6 [12160/60000 (20%)]\tLoss: 0.176324\n",
            "Train Epoch: 6 [12800/60000 (21%)]\tLoss: 0.273437\n",
            "Train Epoch: 6 [13440/60000 (22%)]\tLoss: 0.186249\n",
            "Train Epoch: 6 [14080/60000 (23%)]\tLoss: 0.124588\n",
            "Train Epoch: 6 [14720/60000 (25%)]\tLoss: 0.232363\n",
            "Train Epoch: 6 [15360/60000 (26%)]\tLoss: 0.110985\n",
            "Train Epoch: 6 [16000/60000 (27%)]\tLoss: 0.237517\n",
            "Train Epoch: 6 [16640/60000 (28%)]\tLoss: 0.270934\n",
            "Train Epoch: 6 [17280/60000 (29%)]\tLoss: 0.396098\n",
            "Train Epoch: 6 [17920/60000 (30%)]\tLoss: 0.105382\n",
            "Train Epoch: 6 [18560/60000 (31%)]\tLoss: 0.477388\n",
            "Train Epoch: 6 [19200/60000 (32%)]\tLoss: 0.467215\n",
            "Train Epoch: 6 [19840/60000 (33%)]\tLoss: 0.227076\n",
            "Train Epoch: 6 [20480/60000 (34%)]\tLoss: 0.194031\n",
            "Train Epoch: 6 [21120/60000 (35%)]\tLoss: 0.165521\n",
            "Train Epoch: 6 [21760/60000 (36%)]\tLoss: 0.315262\n",
            "Train Epoch: 6 [22400/60000 (37%)]\tLoss: 0.322075\n",
            "Train Epoch: 6 [23040/60000 (38%)]\tLoss: 0.282263\n",
            "Train Epoch: 6 [23680/60000 (39%)]\tLoss: 0.050080\n",
            "Train Epoch: 6 [24320/60000 (41%)]\tLoss: 0.247614\n",
            "Train Epoch: 6 [24960/60000 (42%)]\tLoss: 0.170128\n",
            "Train Epoch: 6 [25600/60000 (43%)]\tLoss: 0.416421\n",
            "Train Epoch: 6 [26240/60000 (44%)]\tLoss: 0.225911\n",
            "Train Epoch: 6 [26880/60000 (45%)]\tLoss: 0.439060\n",
            "Train Epoch: 6 [27520/60000 (46%)]\tLoss: 0.180413\n",
            "Train Epoch: 6 [28160/60000 (47%)]\tLoss: 0.191280\n",
            "Train Epoch: 6 [28800/60000 (48%)]\tLoss: 0.337282\n",
            "Train Epoch: 6 [29440/60000 (49%)]\tLoss: 0.243085\n",
            "Train Epoch: 6 [30080/60000 (50%)]\tLoss: 0.269932\n",
            "Train Epoch: 6 [30720/60000 (51%)]\tLoss: 0.097119\n",
            "Train Epoch: 6 [31360/60000 (52%)]\tLoss: 0.344770\n",
            "Train Epoch: 6 [32000/60000 (53%)]\tLoss: 0.170829\n",
            "Train Epoch: 6 [32640/60000 (54%)]\tLoss: 0.250954\n",
            "Train Epoch: 6 [33280/60000 (55%)]\tLoss: 0.167767\n",
            "Train Epoch: 6 [33920/60000 (57%)]\tLoss: 0.206464\n",
            "Train Epoch: 6 [34560/60000 (58%)]\tLoss: 0.312081\n",
            "Train Epoch: 6 [35200/60000 (59%)]\tLoss: 0.177352\n",
            "Train Epoch: 6 [35840/60000 (60%)]\tLoss: 0.225853\n",
            "Train Epoch: 6 [36480/60000 (61%)]\tLoss: 0.159663\n",
            "Train Epoch: 6 [37120/60000 (62%)]\tLoss: 0.138701\n",
            "Train Epoch: 6 [37760/60000 (63%)]\tLoss: 0.334930\n",
            "Train Epoch: 6 [38400/60000 (64%)]\tLoss: 0.105189\n",
            "Train Epoch: 6 [39040/60000 (65%)]\tLoss: 0.109733\n",
            "Train Epoch: 6 [39680/60000 (66%)]\tLoss: 0.253364\n",
            "Train Epoch: 6 [40320/60000 (67%)]\tLoss: 0.146972\n",
            "Train Epoch: 6 [40960/60000 (68%)]\tLoss: 0.213141\n",
            "Train Epoch: 6 [41600/60000 (69%)]\tLoss: 0.149994\n",
            "Train Epoch: 6 [42240/60000 (70%)]\tLoss: 0.385020\n",
            "Train Epoch: 6 [42880/60000 (71%)]\tLoss: 0.268469\n",
            "Train Epoch: 6 [43520/60000 (72%)]\tLoss: 0.140191\n",
            "Train Epoch: 6 [44160/60000 (74%)]\tLoss: 0.126256\n",
            "Train Epoch: 6 [44800/60000 (75%)]\tLoss: 0.169051\n",
            "Train Epoch: 6 [45440/60000 (76%)]\tLoss: 0.271576\n",
            "Train Epoch: 6 [46080/60000 (77%)]\tLoss: 0.222813\n",
            "Train Epoch: 6 [46720/60000 (78%)]\tLoss: 0.239423\n",
            "Train Epoch: 6 [47360/60000 (79%)]\tLoss: 0.170919\n",
            "Train Epoch: 6 [48000/60000 (80%)]\tLoss: 0.177249\n",
            "Train Epoch: 6 [48640/60000 (81%)]\tLoss: 0.147492\n",
            "Train Epoch: 6 [49280/60000 (82%)]\tLoss: 0.050130\n",
            "Train Epoch: 6 [49920/60000 (83%)]\tLoss: 0.148542\n",
            "Train Epoch: 6 [50560/60000 (84%)]\tLoss: 0.213720\n",
            "Train Epoch: 6 [51200/60000 (85%)]\tLoss: 0.103407\n",
            "Train Epoch: 6 [51840/60000 (86%)]\tLoss: 0.149295\n",
            "Train Epoch: 6 [52480/60000 (87%)]\tLoss: 0.294856\n",
            "Train Epoch: 6 [53120/60000 (88%)]\tLoss: 0.184698\n",
            "Train Epoch: 6 [53760/60000 (90%)]\tLoss: 0.295688\n",
            "Train Epoch: 6 [54400/60000 (91%)]\tLoss: 0.158368\n",
            "Train Epoch: 6 [55040/60000 (92%)]\tLoss: 0.331817\n",
            "Train Epoch: 6 [55680/60000 (93%)]\tLoss: 0.180177\n",
            "Train Epoch: 6 [56320/60000 (94%)]\tLoss: 0.336675\n",
            "Train Epoch: 6 [56960/60000 (95%)]\tLoss: 0.418822\n",
            "Train Epoch: 6 [57600/60000 (96%)]\tLoss: 0.221090\n",
            "Train Epoch: 6 [58240/60000 (97%)]\tLoss: 0.121021\n",
            "Train Epoch: 6 [58880/60000 (98%)]\tLoss: 0.149158\n",
            "Train Epoch: 6 [59520/60000 (99%)]\tLoss: 0.149992\n",
            "\n",
            "Test set: Avg. loss: 0.0684, Accuracy: 9781/10000 (98%)\n",
            "\n",
            "Train Epoch: 7 [0/60000 (0%)]\tLoss: 0.342245\n",
            "Train Epoch: 7 [640/60000 (1%)]\tLoss: 0.236171\n",
            "Train Epoch: 7 [1280/60000 (2%)]\tLoss: 0.483308\n",
            "Train Epoch: 7 [1920/60000 (3%)]\tLoss: 0.197368\n",
            "Train Epoch: 7 [2560/60000 (4%)]\tLoss: 0.093684\n",
            "Train Epoch: 7 [3200/60000 (5%)]\tLoss: 0.157171\n",
            "Train Epoch: 7 [3840/60000 (6%)]\tLoss: 0.154878\n",
            "Train Epoch: 7 [4480/60000 (7%)]\tLoss: 0.105969\n",
            "Train Epoch: 7 [5120/60000 (9%)]\tLoss: 0.191603\n",
            "Train Epoch: 7 [5760/60000 (10%)]\tLoss: 0.281405\n",
            "Train Epoch: 7 [6400/60000 (11%)]\tLoss: 0.262518\n",
            "Train Epoch: 7 [7040/60000 (12%)]\tLoss: 0.244383\n",
            "Train Epoch: 7 [7680/60000 (13%)]\tLoss: 0.141126\n",
            "Train Epoch: 7 [8320/60000 (14%)]\tLoss: 0.282217\n",
            "Train Epoch: 7 [8960/60000 (15%)]\tLoss: 0.183013\n",
            "Train Epoch: 7 [9600/60000 (16%)]\tLoss: 0.303472\n",
            "Train Epoch: 7 [10240/60000 (17%)]\tLoss: 0.193528\n",
            "Train Epoch: 7 [10880/60000 (18%)]\tLoss: 0.444281\n",
            "Train Epoch: 7 [11520/60000 (19%)]\tLoss: 0.313105\n",
            "Train Epoch: 7 [12160/60000 (20%)]\tLoss: 0.113355\n",
            "Train Epoch: 7 [12800/60000 (21%)]\tLoss: 0.166488\n",
            "Train Epoch: 7 [13440/60000 (22%)]\tLoss: 0.099268\n",
            "Train Epoch: 7 [14080/60000 (23%)]\tLoss: 0.080305\n",
            "Train Epoch: 7 [14720/60000 (25%)]\tLoss: 0.258232\n",
            "Train Epoch: 7 [15360/60000 (26%)]\tLoss: 0.130259\n",
            "Train Epoch: 7 [16000/60000 (27%)]\tLoss: 0.112641\n",
            "Train Epoch: 7 [16640/60000 (28%)]\tLoss: 0.088832\n",
            "Train Epoch: 7 [17280/60000 (29%)]\tLoss: 0.115659\n",
            "Train Epoch: 7 [17920/60000 (30%)]\tLoss: 0.126517\n",
            "Train Epoch: 7 [18560/60000 (31%)]\tLoss: 0.135749\n",
            "Train Epoch: 7 [19200/60000 (32%)]\tLoss: 0.173528\n",
            "Train Epoch: 7 [19840/60000 (33%)]\tLoss: 0.214186\n",
            "Train Epoch: 7 [20480/60000 (34%)]\tLoss: 0.141510\n",
            "Train Epoch: 7 [21120/60000 (35%)]\tLoss: 0.282841\n",
            "Train Epoch: 7 [21760/60000 (36%)]\tLoss: 0.097320\n",
            "Train Epoch: 7 [22400/60000 (37%)]\tLoss: 0.121645\n",
            "Train Epoch: 7 [23040/60000 (38%)]\tLoss: 0.271401\n",
            "Train Epoch: 7 [23680/60000 (39%)]\tLoss: 0.417200\n",
            "Train Epoch: 7 [24320/60000 (41%)]\tLoss: 0.246729\n",
            "Train Epoch: 7 [24960/60000 (42%)]\tLoss: 0.368465\n",
            "Train Epoch: 7 [25600/60000 (43%)]\tLoss: 0.192673\n",
            "Train Epoch: 7 [26240/60000 (44%)]\tLoss: 0.116936\n",
            "Train Epoch: 7 [26880/60000 (45%)]\tLoss: 0.253053\n",
            "Train Epoch: 7 [27520/60000 (46%)]\tLoss: 0.186361\n",
            "Train Epoch: 7 [28160/60000 (47%)]\tLoss: 0.327018\n",
            "Train Epoch: 7 [28800/60000 (48%)]\tLoss: 0.276930\n",
            "Train Epoch: 7 [29440/60000 (49%)]\tLoss: 0.134694\n",
            "Train Epoch: 7 [30080/60000 (50%)]\tLoss: 0.047832\n",
            "Train Epoch: 7 [30720/60000 (51%)]\tLoss: 0.135228\n",
            "Train Epoch: 7 [31360/60000 (52%)]\tLoss: 0.178804\n",
            "Train Epoch: 7 [32000/60000 (53%)]\tLoss: 0.255141\n",
            "Train Epoch: 7 [32640/60000 (54%)]\tLoss: 0.167726\n",
            "Train Epoch: 7 [33280/60000 (55%)]\tLoss: 0.139022\n",
            "Train Epoch: 7 [33920/60000 (57%)]\tLoss: 0.223440\n",
            "Train Epoch: 7 [34560/60000 (58%)]\tLoss: 0.179141\n",
            "Train Epoch: 7 [35200/60000 (59%)]\tLoss: 0.169276\n",
            "Train Epoch: 7 [35840/60000 (60%)]\tLoss: 0.242322\n",
            "Train Epoch: 7 [36480/60000 (61%)]\tLoss: 0.138863\n",
            "Train Epoch: 7 [37120/60000 (62%)]\tLoss: 0.133081\n",
            "Train Epoch: 7 [37760/60000 (63%)]\tLoss: 0.141704\n",
            "Train Epoch: 7 [38400/60000 (64%)]\tLoss: 0.244839\n",
            "Train Epoch: 7 [39040/60000 (65%)]\tLoss: 0.228134\n",
            "Train Epoch: 7 [39680/60000 (66%)]\tLoss: 0.223610\n",
            "Train Epoch: 7 [40320/60000 (67%)]\tLoss: 0.346750\n",
            "Train Epoch: 7 [40960/60000 (68%)]\tLoss: 0.321309\n",
            "Train Epoch: 7 [41600/60000 (69%)]\tLoss: 0.212698\n",
            "Train Epoch: 7 [42240/60000 (70%)]\tLoss: 0.232045\n",
            "Train Epoch: 7 [42880/60000 (71%)]\tLoss: 0.191021\n",
            "Train Epoch: 7 [43520/60000 (72%)]\tLoss: 0.179474\n",
            "Train Epoch: 7 [44160/60000 (74%)]\tLoss: 0.366669\n",
            "Train Epoch: 7 [44800/60000 (75%)]\tLoss: 0.175603\n",
            "Train Epoch: 7 [45440/60000 (76%)]\tLoss: 0.255866\n",
            "Train Epoch: 7 [46080/60000 (77%)]\tLoss: 0.144271\n",
            "Train Epoch: 7 [46720/60000 (78%)]\tLoss: 0.168020\n",
            "Train Epoch: 7 [47360/60000 (79%)]\tLoss: 0.234161\n",
            "Train Epoch: 7 [48000/60000 (80%)]\tLoss: 0.143964\n",
            "Train Epoch: 7 [48640/60000 (81%)]\tLoss: 0.228948\n",
            "Train Epoch: 7 [49280/60000 (82%)]\tLoss: 0.113124\n",
            "Train Epoch: 7 [49920/60000 (83%)]\tLoss: 0.046394\n",
            "Train Epoch: 7 [50560/60000 (84%)]\tLoss: 0.140458\n",
            "Train Epoch: 7 [51200/60000 (85%)]\tLoss: 0.222615\n",
            "Train Epoch: 7 [51840/60000 (86%)]\tLoss: 0.145817\n",
            "Train Epoch: 7 [52480/60000 (87%)]\tLoss: 0.161782\n",
            "Train Epoch: 7 [53120/60000 (88%)]\tLoss: 0.058741\n",
            "Train Epoch: 7 [53760/60000 (90%)]\tLoss: 0.150937\n",
            "Train Epoch: 7 [54400/60000 (91%)]\tLoss: 0.247504\n",
            "Train Epoch: 7 [55040/60000 (92%)]\tLoss: 0.268161\n",
            "Train Epoch: 7 [55680/60000 (93%)]\tLoss: 0.289221\n",
            "Train Epoch: 7 [56320/60000 (94%)]\tLoss: 0.466982\n",
            "Train Epoch: 7 [56960/60000 (95%)]\tLoss: 0.197866\n",
            "Train Epoch: 7 [57600/60000 (96%)]\tLoss: 0.265234\n",
            "Train Epoch: 7 [58240/60000 (97%)]\tLoss: 0.099503\n",
            "Train Epoch: 7 [58880/60000 (98%)]\tLoss: 0.048106\n",
            "Train Epoch: 7 [59520/60000 (99%)]\tLoss: 0.246704\n",
            "\n",
            "Test set: Avg. loss: 0.0624, Accuracy: 9802/10000 (98%)\n",
            "\n",
            "Train Epoch: 8 [0/60000 (0%)]\tLoss: 0.167973\n",
            "Train Epoch: 8 [640/60000 (1%)]\tLoss: 0.189516\n",
            "Train Epoch: 8 [1280/60000 (2%)]\tLoss: 0.202537\n",
            "Train Epoch: 8 [1920/60000 (3%)]\tLoss: 0.173344\n",
            "Train Epoch: 8 [2560/60000 (4%)]\tLoss: 0.239800\n",
            "Train Epoch: 8 [3200/60000 (5%)]\tLoss: 0.103178\n",
            "Train Epoch: 8 [3840/60000 (6%)]\tLoss: 0.088204\n",
            "Train Epoch: 8 [4480/60000 (7%)]\tLoss: 0.113563\n",
            "Train Epoch: 8 [5120/60000 (9%)]\tLoss: 0.249534\n",
            "Train Epoch: 8 [5760/60000 (10%)]\tLoss: 0.151105\n",
            "Train Epoch: 8 [6400/60000 (11%)]\tLoss: 0.141052\n",
            "Train Epoch: 8 [7040/60000 (12%)]\tLoss: 0.427306\n",
            "Train Epoch: 8 [7680/60000 (13%)]\tLoss: 0.289660\n",
            "Train Epoch: 8 [8320/60000 (14%)]\tLoss: 0.357098\n",
            "Train Epoch: 8 [8960/60000 (15%)]\tLoss: 0.282174\n",
            "Train Epoch: 8 [9600/60000 (16%)]\tLoss: 0.120764\n",
            "Train Epoch: 8 [10240/60000 (17%)]\tLoss: 0.110478\n",
            "Train Epoch: 8 [10880/60000 (18%)]\tLoss: 0.239843\n",
            "Train Epoch: 8 [11520/60000 (19%)]\tLoss: 0.217626\n",
            "Train Epoch: 8 [12160/60000 (20%)]\tLoss: 0.208070\n",
            "Train Epoch: 8 [12800/60000 (21%)]\tLoss: 0.168796\n",
            "Train Epoch: 8 [13440/60000 (22%)]\tLoss: 0.138157\n",
            "Train Epoch: 8 [14080/60000 (23%)]\tLoss: 0.383004\n",
            "Train Epoch: 8 [14720/60000 (25%)]\tLoss: 0.562232\n",
            "Train Epoch: 8 [15360/60000 (26%)]\tLoss: 0.166200\n",
            "Train Epoch: 8 [16000/60000 (27%)]\tLoss: 0.296752\n",
            "Train Epoch: 8 [16640/60000 (28%)]\tLoss: 0.103894\n",
            "Train Epoch: 8 [17280/60000 (29%)]\tLoss: 0.151146\n",
            "Train Epoch: 8 [17920/60000 (30%)]\tLoss: 0.121870\n",
            "Train Epoch: 8 [18560/60000 (31%)]\tLoss: 0.214069\n",
            "Train Epoch: 8 [19200/60000 (32%)]\tLoss: 0.163789\n",
            "Train Epoch: 8 [19840/60000 (33%)]\tLoss: 0.162600\n",
            "Train Epoch: 8 [20480/60000 (34%)]\tLoss: 0.125205\n",
            "Train Epoch: 8 [21120/60000 (35%)]\tLoss: 0.248645\n",
            "Train Epoch: 8 [21760/60000 (36%)]\tLoss: 0.182716\n",
            "Train Epoch: 8 [22400/60000 (37%)]\tLoss: 0.166953\n",
            "Train Epoch: 8 [23040/60000 (38%)]\tLoss: 0.111216\n",
            "Train Epoch: 8 [23680/60000 (39%)]\tLoss: 0.171231\n",
            "Train Epoch: 8 [24320/60000 (41%)]\tLoss: 0.074339\n",
            "Train Epoch: 8 [24960/60000 (42%)]\tLoss: 0.258106\n",
            "Train Epoch: 8 [25600/60000 (43%)]\tLoss: 0.240344\n",
            "Train Epoch: 8 [26240/60000 (44%)]\tLoss: 0.169386\n",
            "Train Epoch: 8 [26880/60000 (45%)]\tLoss: 0.265555\n",
            "Train Epoch: 8 [27520/60000 (46%)]\tLoss: 0.265285\n",
            "Train Epoch: 8 [28160/60000 (47%)]\tLoss: 0.115699\n",
            "Train Epoch: 8 [28800/60000 (48%)]\tLoss: 0.116113\n",
            "Train Epoch: 8 [29440/60000 (49%)]\tLoss: 0.104092\n",
            "Train Epoch: 8 [30080/60000 (50%)]\tLoss: 0.148119\n",
            "Train Epoch: 8 [30720/60000 (51%)]\tLoss: 0.039670\n",
            "Train Epoch: 8 [31360/60000 (52%)]\tLoss: 0.254728\n",
            "Train Epoch: 8 [32000/60000 (53%)]\tLoss: 0.152610\n",
            "Train Epoch: 8 [32640/60000 (54%)]\tLoss: 0.109048\n",
            "Train Epoch: 8 [33280/60000 (55%)]\tLoss: 0.278188\n",
            "Train Epoch: 8 [33920/60000 (57%)]\tLoss: 0.178231\n",
            "Train Epoch: 8 [34560/60000 (58%)]\tLoss: 0.236704\n",
            "Train Epoch: 8 [35200/60000 (59%)]\tLoss: 0.184271\n",
            "Train Epoch: 8 [35840/60000 (60%)]\tLoss: 0.354153\n",
            "Train Epoch: 8 [36480/60000 (61%)]\tLoss: 0.124907\n",
            "Train Epoch: 8 [37120/60000 (62%)]\tLoss: 0.203652\n",
            "Train Epoch: 8 [37760/60000 (63%)]\tLoss: 0.221498\n",
            "Train Epoch: 8 [38400/60000 (64%)]\tLoss: 0.153653\n",
            "Train Epoch: 8 [39040/60000 (65%)]\tLoss: 0.238407\n",
            "Train Epoch: 8 [39680/60000 (66%)]\tLoss: 0.126179\n",
            "Train Epoch: 8 [40320/60000 (67%)]\tLoss: 0.196369\n",
            "Train Epoch: 8 [40960/60000 (68%)]\tLoss: 0.194545\n",
            "Train Epoch: 8 [41600/60000 (69%)]\tLoss: 0.235231\n",
            "Train Epoch: 8 [42240/60000 (70%)]\tLoss: 0.273664\n",
            "Train Epoch: 8 [42880/60000 (71%)]\tLoss: 0.201932\n",
            "Train Epoch: 8 [43520/60000 (72%)]\tLoss: 0.194689\n",
            "Train Epoch: 8 [44160/60000 (74%)]\tLoss: 0.166650\n",
            "Train Epoch: 8 [44800/60000 (75%)]\tLoss: 0.395339\n",
            "Train Epoch: 8 [45440/60000 (76%)]\tLoss: 0.132381\n",
            "Train Epoch: 8 [46080/60000 (77%)]\tLoss: 0.131227\n",
            "Train Epoch: 8 [46720/60000 (78%)]\tLoss: 0.126161\n",
            "Train Epoch: 8 [47360/60000 (79%)]\tLoss: 0.133416\n",
            "Train Epoch: 8 [48000/60000 (80%)]\tLoss: 0.153098\n",
            "Train Epoch: 8 [48640/60000 (81%)]\tLoss: 0.124522\n",
            "Train Epoch: 8 [49280/60000 (82%)]\tLoss: 0.166599\n",
            "Train Epoch: 8 [49920/60000 (83%)]\tLoss: 0.351796\n",
            "Train Epoch: 8 [50560/60000 (84%)]\tLoss: 0.147060\n",
            "Train Epoch: 8 [51200/60000 (85%)]\tLoss: 0.089048\n",
            "Train Epoch: 8 [51840/60000 (86%)]\tLoss: 0.332369\n",
            "Train Epoch: 8 [52480/60000 (87%)]\tLoss: 0.132190\n",
            "Train Epoch: 8 [53120/60000 (88%)]\tLoss: 0.119020\n",
            "Train Epoch: 8 [53760/60000 (90%)]\tLoss: 0.291225\n",
            "Train Epoch: 8 [54400/60000 (91%)]\tLoss: 0.439987\n",
            "Train Epoch: 8 [55040/60000 (92%)]\tLoss: 0.069975\n",
            "Train Epoch: 8 [55680/60000 (93%)]\tLoss: 0.123779\n",
            "Train Epoch: 8 [56320/60000 (94%)]\tLoss: 0.087677\n",
            "Train Epoch: 8 [56960/60000 (95%)]\tLoss: 0.158314\n",
            "Train Epoch: 8 [57600/60000 (96%)]\tLoss: 0.201144\n",
            "Train Epoch: 8 [58240/60000 (97%)]\tLoss: 0.301027\n",
            "Train Epoch: 8 [58880/60000 (98%)]\tLoss: 0.056739\n",
            "Train Epoch: 8 [59520/60000 (99%)]\tLoss: 0.387056\n",
            "\n",
            "Test set: Avg. loss: 0.0583, Accuracy: 9807/10000 (98%)\n",
            "\n"
          ]
        }
      ]
    },
    {
      "cell_type": "code",
      "source": [
        "# Let's visualize this to further inspect the training progress.\n",
        "\n",
        "fig = plt.figure()\n",
        "plt.plot(train_counter, train_losses, color='blue')\n",
        "plt.scatter(test_counter, test_losses, color='red')\n",
        "plt.legend(['Train Loss', 'Test Loss'], loc='upper right')\n",
        "plt.xlabel('number of training examples seen')\n",
        "plt.ylabel('negative log likelihood loss')\n",
        "fig"
      ],
      "metadata": {
        "id": "92Y3PQ6fqTKG",
        "colab": {
          "base_uri": "https://localhost:8080/",
          "height": 541
        },
        "outputId": "6724472f-b690-4263-cb22-8131632bcd11"
      },
      "execution_count": null,
      "outputs": [
        {
          "output_type": "execute_result",
          "data": {
            "text/plain": [
              "<Figure size 432x288 with 1 Axes>"
            ],
            "image/png": "[encoded data removed]"
          },
          "metadata": {},
          "execution_count": 37
        },
        {
          "output_type": "display_data",
          "data": {
            "text/plain": [
              "<Figure size 432x288 with 1 Axes>"
            ],
            "image/png": "[encoded data removed]"
          },
          "metadata": {
            "needs_background": "light"
          }
        }
      ]
    },
    {
      "cell_type": "markdown",
      "source": [
        "**7. Conclusion**\n",
        "\n",
        "\n",
        "TODO: \n",
        "\n",
        "* Explore the effect of increasing or decreasing the number of channels in convolutional layers.\n",
        "\n",
        "* Try doubling or halving the number of channels in each layer, and observe the effect on training and validation accuracy.\n",
        "\n",
        "* Adjust the learning rate and batch size hyperparameters to see how this affects model performance\n",
        "\n",
        "In this final section, you will summarize the results of the project, discuss any challenges or interesting findings, and suggest areas for future improvement.\n",
        "\n",
        "**Summary:**\n",
        "\n",
        "1. Increasing or decreasing the number of channels won't have much effect,as we keep increasing or decreasing the channel dimension and keep reducing the height and width of the image. Also, the more filters we use, the more probable is our data to undergo overfitting.\n",
        "2. Doubling the number of channels(filters) helps in getting more accurate outputs from training data. This is because the initial layers learn simple patterns, but as we go deeper, the layers contain more abstract representations that can be well represented only by a combination of a large number of filters.\n",
        "3. A higher learning rate makes the model learn faster, but it may miss the minimum loss function and only reach the surrounding of it, whereas a lower learning rate gives a better chance to find a minimum loss function.\n",
        "Now, a smaller batch size makes the learning process faster, but the variance of the validation dataset accuracy is higher. A bigger batch size has a slower learning process, but the validation dataset accuracy has a lower variance.\n",
        "\n",
        "From the resulting curves, we can conclude that our dropout layer helped in regularizing the model. We get an 98 percent accuracy and low test loss and training loss of 0.387 and 0.053 respectively. We even get a smooth curve which proves our model worked well. Also, the number of epochs right now is 8 and it gives us a more accurate model as compared to the one with 3 epochs. Hence, more epochs makes the model better."
      ],
      "metadata": {
        "id": "6OfsIzUdq4GK"
      }
    },
    {
      "cell_type": "markdown",
      "metadata": {
        "id": "LztHFoL7BKfN"
      },
      "source": [
        "\n",
        "\n",
        "## Additional Resources"
      ]
    },
    {
      "cell_type": "markdown",
      "metadata": {
        "id": "7mRluaqhBKfN"
      },
      "source": [
        "\n",
        "- [Visualize CNN training](https://cs.stanford.edu/people/karpathy/convnetjs/)\n",
        "- [Visualize Convolution Layers](https://adamharley.com/nn_vis/)\n",
        "- [CNN Explainer](https://poloclub.github.io/cnn-explainer/)\n",
        "- [CNN In-depth Explanation](https://www.youtube.com/@far1din619/videos)\n",
        "- [Neural Network Visualization](https://www.youtube.com/watch?v=KuXjwB4LzSA&ab_channel=3Blue1Brown)\n",
        "\n",
        "- https://playground.tensorflow.org/"
      ]
    }
  ],
  "metadata": {
    "kernelspec": {
      "display_name": "Python 3",
      "language": "python",
      "name": "python3"
    },
    "language_info": {
      "codemirror_mode": {
        "name": "ipython",
        "version": 3
      },
      "file_extension": ".py",
      "mimetype": "text/x-python",
      "name": "python",
      "nbconvert_exporter": "python",
      "pygments_lexer": "ipython3",
      "version": "3.10.7 (main, Sep 14 2022, 22:38:23) [Clang 14.0.0 (clang-1400.0.29.102)]"
    },
    "vscode": {
      "interpreter": {
        "hash": "b0fa6594d8f4cbf19f97940f81e996739fb7646882a419484c72d19e05852a7e"
      }
    },
    "colab": {
      "provenance": []
    },
    "accelerator": "GPU",
    "gpuClass": "standard"
  },
  "nbformat": 4,
  "nbformat_minor": 0
}